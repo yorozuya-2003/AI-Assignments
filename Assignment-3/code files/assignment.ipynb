{
 "cells": [
  {
   "cell_type": "code",
   "execution_count": 1,
   "id": "677726ac-a548-4459-ad24-4c8b8207a1a8",
   "metadata": {
    "tags": []
   },
   "outputs": [],
   "source": [
    "from helpers import *"
   ]
  },
  {
   "cell_type": "markdown",
   "id": "47a461e4-adc0-49a5-bb52-0bfdc67bf3c7",
   "metadata": {},
   "source": [
    "---\n",
    "# n = 2\n",
    "---"
   ]
  },
  {
   "cell_type": "code",
   "execution_count": 2,
   "id": "3f910be4-d4e9-49d6-b0af-e89c14b77920",
   "metadata": {
    "scrolled": true,
    "tags": []
   },
   "outputs": [],
   "source": [
    "n, m = 2, 1\n",
    "formulas = [\n",
    "    'a=(b|c)',\n",
    "    '!a'\n",
    "]\n",
    "query = '!b'"
   ]
  },
  {
   "cell_type": "markdown",
   "id": "c6c46f3a-9519-409a-ace3-1712abfdb7f7",
   "metadata": {},
   "source": [
    "### Uninformed Search (BFS)"
   ]
  },
  {
   "cell_type": "code",
   "execution_count": 3,
   "id": "bddbc54a-fcc1-4b2e-bd60-dbdee738ff69",
   "metadata": {
    "scrolled": true,
    "tags": []
   },
   "outputs": [
    {
     "name": "stdout",
     "output_type": "stream",
     "text": [
      "['a|!b', 'a|!c', '!a|b|c', '!a', 'b']\n",
      "['a|!b', 'a|!c', '!a|b|c', '!a', 'b', '!a|a|c']\n",
      "['a|!b', 'a|!c', '!a|b|c', '!a', 'b', '!b']\n",
      "b, !b resolved to Empty Clause\n",
      "1\n"
     ]
    }
   ],
   "source": [
    "res = solve(n, m, formulas, query, method='uninformed', submethod='BFS')"
   ]
  },
  {
   "cell_type": "code",
   "execution_count": 4,
   "id": "7e485e7c-f13a-4e48-8aeb-71f1aa9da19b",
   "metadata": {
    "tags": []
   },
   "outputs": [
    {
     "name": "stdout",
     "output_type": "stream",
     "text": [
      "total number of nodes explored: 3\n",
      "execution time: 0.00018 seconds\n",
      "\n",
      "number of nodes in the path: 3\n",
      "path:\n",
      "['a|!b', 'a|!c', '!a|b|c', '!a', 'b']\n",
      "['a|!b', 'a|!c', '!a|b|c', '!a', 'b', '!b']\n",
      "['a|!b', 'a|!c', '!a|b|c', '!a', 'b', '!b', '']\n"
     ]
    }
   ],
   "source": [
    "print_results(res)"
   ]
  },
  {
   "cell_type": "markdown",
   "id": "c14193a2-f1ef-487f-a85c-48aae98da768",
   "metadata": {},
   "source": [
    "### Uninformed Search (DFS)"
   ]
  },
  {
   "cell_type": "code",
   "execution_count": 5,
   "id": "df7fa896-84cd-4690-ae8a-2429f267cf50",
   "metadata": {
    "scrolled": true,
    "tags": []
   },
   "outputs": [
    {
     "name": "stdout",
     "output_type": "stream",
     "text": [
      "['a|!b', 'a|!c', '!a|b|c', '!a', 'b']\n",
      "['a|!b', 'a|!c', '!a|b|c', '!a', 'b', '!c']\n",
      "['a|!b', 'a|!c', '!a|b|c', '!a', 'b', '!c', '!a|b']\n",
      "['a|!b', 'a|!c', '!a|b|c', '!a', 'b', '!c', '!a|b', 'b|!c']\n",
      "['a|!b', 'a|!c', '!a|b|c', '!a', 'b', '!c', '!a|b', '!a|a']\n",
      "['a|!b', 'a|!c', '!a|b|c', '!a', 'b', '!a|a|b']\n",
      "['a|!b', 'a|!c', '!a|b|c', '!a', 'b', '!a|a|b', '!a|b']\n",
      "['a|!b', 'a|!c', '!a|b|c', '!a', 'b', '!a|a|b', 'a|b|!c']\n",
      "['a|!b', 'a|!c', '!a|b|c', '!a', 'b', '!a|a|b', 'a|b|!c', 'b|!c']\n",
      "['a|!b', 'a|!c', '!a|b|c', '!a', 'b', '!a|a|b', 'a|b|!c', 'b|!c', '!a|b']\n",
      "['a|!b', 'a|!c', '!a|b|c', '!a', 'b', '!a|a|b', '!a|a']\n",
      "['a|!b', 'a|!c', '!a|b|c', '!a', 'b', 'a']\n",
      "!a, a resolved to Empty Clause\n",
      "1\n"
     ]
    }
   ],
   "source": [
    "res = solve(n, m, formulas, query, method='uninformed', submethod='DFS')"
   ]
  },
  {
   "cell_type": "code",
   "execution_count": 6,
   "id": "5f6954bb-062e-41a5-8d40-4f26b9dd1cc2",
   "metadata": {
    "scrolled": true,
    "tags": []
   },
   "outputs": [
    {
     "name": "stdout",
     "output_type": "stream",
     "text": [
      "total number of nodes explored: 12\n",
      "execution time: 0.001174 seconds\n",
      "\n",
      "number of nodes in the path: 3\n",
      "path:\n",
      "['a|!b', 'a|!c', '!a|b|c', '!a', 'b']\n",
      "['a|!b', 'a|!c', '!a|b|c', '!a', 'b', 'a']\n",
      "['a|!b', 'a|!c', '!a|b|c', '!a', 'b', 'a', '']\n"
     ]
    }
   ],
   "source": [
    "print_results(res)"
   ]
  },
  {
   "cell_type": "markdown",
   "id": "b1b1f616-1499-4686-b29c-6c23bf001ce6",
   "metadata": {},
   "source": [
    "### Greedy Search"
   ]
  },
  {
   "cell_type": "code",
   "execution_count": 7,
   "id": "dde7386d-5110-471c-b5ce-bae69abaa090",
   "metadata": {
    "tags": []
   },
   "outputs": [
    {
     "name": "stdout",
     "output_type": "stream",
     "text": [
      "['a|!b', 'a|!c', '!a|b|c', '!a', 'b']\n",
      "['a|!b', 'a|!c', '!a|b|c', '!a', 'b', '!b']\n",
      "b, !b resolved to Empty Clause\n",
      "1\n"
     ]
    }
   ],
   "source": [
    "res = solve(n, m, formulas, query, method='greedy')"
   ]
  },
  {
   "cell_type": "code",
   "execution_count": 8,
   "id": "9098ef5f-56ee-42dc-b9ee-752c3a14b66e",
   "metadata": {
    "tags": []
   },
   "outputs": [
    {
     "name": "stdout",
     "output_type": "stream",
     "text": [
      "total number of nodes explored: 2\n",
      "execution time: 0.00056 seconds\n",
      "\n",
      "number of nodes in the path: 3\n",
      "path:\n",
      "['a|!b', 'a|!c', '!a|b|c', '!a', 'b']\n",
      "['a|!b', 'a|!c', '!a|b|c', '!a', 'b', '!b']\n",
      "['a|!b', 'a|!c', '!a|b|c', '!a', 'b', '!b', '']\n"
     ]
    }
   ],
   "source": [
    "print_results(res)"
   ]
  },
  {
   "cell_type": "markdown",
   "id": "9af26214-2ff9-417e-9c79-4218b19fd841",
   "metadata": {},
   "source": [
    "---\n",
    "# n = 3\n",
    "---"
   ]
  },
  {
   "cell_type": "code",
   "execution_count": 9,
   "id": "f24ca971-ed59-47ce-9049-132b506a9314",
   "metadata": {
    "tags": []
   },
   "outputs": [],
   "source": [
    "n, m = 3, 0\n",
    "formulas = [\n",
    "    '(P>Q)>Q',\n",
    "    '(P>P)>R',\n",
    "    '(R>S)>!(S>Q)'\n",
    "]\n",
    "query = 'S>(R&P)'"
   ]
  },
  {
   "cell_type": "markdown",
   "id": "c8e4147d-932f-403a-a938-0c0aecfcf37a",
   "metadata": {
    "tags": []
   },
   "source": [
    "### Uninformed Search (BFS)"
   ]
  },
  {
   "cell_type": "code",
   "execution_count": 10,
   "id": "f53187ea-b870-413b-9076-2ceeab8b43bc",
   "metadata": {
    "tags": []
   },
   "outputs": [
    {
     "name": "stdout",
     "output_type": "stream",
     "text": [
      "1\n"
     ]
    }
   ],
   "source": [
    "res = solve(n, m, formulas, query, method='uninformed', submethod='BFS')"
   ]
  },
  {
   "cell_type": "code",
   "execution_count": 11,
   "id": "061729a3-1f9e-4c4e-a99d-2ecd9c42a349",
   "metadata": {
    "tags": []
   },
   "outputs": [
    {
     "name": "stdout",
     "output_type": "stream",
     "text": [
      "total number of nodes explored: 22\n",
      "execution time: 0.002337 seconds\n",
      "\n",
      "number of nodes in the path: 5\n",
      "path:\n",
      "['P|Q', 'Q|!Q', 'R', 'R|S', '!Q|R', 'S|!S', '!Q|!S', 'S', '!P|!R']\n",
      "['P|Q', 'Q|!Q', 'R', 'R|S', '!Q|R', 'S|!S', '!Q|!S', 'S', '!P|!R', 'P|!S']\n",
      "['P|Q', 'Q|!Q', 'R', 'R|S', '!Q|R', 'S|!S', '!Q|!S', 'S', '!P|!R', 'P|!S', 'P']\n",
      "['P|Q', 'Q|!Q', 'R', 'R|S', '!Q|R', 'S|!S', '!Q|!S', 'S', '!P|!R', 'P|!S', 'P', '!R']\n",
      "['P|Q', 'Q|!Q', 'R', 'R|S', '!Q|R', 'S|!S', '!Q|!S', 'S', '!P|!R', 'P|!S', 'P', '!R', '']\n"
     ]
    }
   ],
   "source": [
    "print_results(res)"
   ]
  },
  {
   "cell_type": "markdown",
   "id": "ba6d8c56-19ea-43f8-8c0e-c58b7fbf768d",
   "metadata": {
    "tags": []
   },
   "source": [
    "### Uninformed Search (DFS)"
   ]
  },
  {
   "cell_type": "code",
   "execution_count": 12,
   "id": "0c877d35-7847-4683-b1b6-73ecd47f7ae5",
   "metadata": {
    "tags": []
   },
   "outputs": [
    {
     "name": "stdout",
     "output_type": "stream",
     "text": [
      "1\n"
     ]
    }
   ],
   "source": [
    "res = solve(n, m, formulas, query, method='uninformed', submethod='DFS')"
   ]
  },
  {
   "cell_type": "code",
   "execution_count": 13,
   "id": "aeec69b8-fb48-4b54-9d99-16f249ab3ccb",
   "metadata": {
    "tags": []
   },
   "outputs": [
    {
     "name": "stdout",
     "output_type": "stream",
     "text": [
      "total number of nodes explored: 4\n",
      "execution time: 0.001491 seconds\n",
      "\n",
      "number of nodes in the path: 5\n",
      "path:\n",
      "['P|Q', 'Q|!Q', 'R', 'R|S', '!Q|R', 'S|!S', '!Q|!S', 'S', '!P|!R']\n",
      "['P|Q', 'Q|!Q', 'R', 'R|S', '!Q|R', 'S|!S', '!Q|!S', 'S', '!P|!R', '!Q']\n",
      "['P|Q', 'Q|!Q', 'R', 'R|S', '!Q|R', 'S|!S', '!Q|!S', 'S', '!P|!R', '!Q', 'P']\n",
      "['P|Q', 'Q|!Q', 'R', 'R|S', '!Q|R', 'S|!S', '!Q|!S', 'S', '!P|!R', '!Q', 'P', '!R']\n",
      "['P|Q', 'Q|!Q', 'R', 'R|S', '!Q|R', 'S|!S', '!Q|!S', 'S', '!P|!R', '!Q', 'P', '!R', '']\n"
     ]
    }
   ],
   "source": [
    "print_results(res)"
   ]
  },
  {
   "cell_type": "markdown",
   "id": "2882c1d6-801c-4885-8f96-cf71ee33bc3a",
   "metadata": {
    "tags": []
   },
   "source": [
    "### Greedy Search"
   ]
  },
  {
   "cell_type": "code",
   "execution_count": 14,
   "id": "448cd84a-b77e-4b92-9a4c-ee1509373c69",
   "metadata": {
    "tags": []
   },
   "outputs": [
    {
     "name": "stdout",
     "output_type": "stream",
     "text": [
      "1\n"
     ]
    }
   ],
   "source": [
    "res = solve(n, m, formulas, query, method='greedy')"
   ]
  },
  {
   "cell_type": "code",
   "execution_count": 15,
   "id": "4ed908ca-f109-4113-85b9-92c006f34dbd",
   "metadata": {
    "tags": []
   },
   "outputs": [
    {
     "name": "stdout",
     "output_type": "stream",
     "text": [
      "total number of nodes explored: 6\n",
      "execution time: 0.000796 seconds\n",
      "\n",
      "number of nodes in the path: 5\n",
      "path:\n",
      "['P|Q', 'Q|!Q', 'R', 'R|S', '!Q|R', 'S|!S', '!Q|!S', 'S', '!P|!R']\n",
      "['P|Q', 'Q|!Q', 'R', 'R|S', '!Q|R', 'S|!S', '!Q|!S', 'S', '!P|!R', '!P']\n",
      "['P|Q', 'Q|!Q', 'R', 'R|S', '!Q|R', 'S|!S', '!Q|!S', 'S', '!P|!R', '!P', 'Q']\n",
      "['P|Q', 'Q|!Q', 'R', 'R|S', '!Q|R', 'S|!S', '!Q|!S', 'S', '!P|!R', '!P', 'Q', '!S']\n",
      "['P|Q', 'Q|!Q', 'R', 'R|S', '!Q|R', 'S|!S', '!Q|!S', 'S', '!P|!R', '!P', 'Q', '!S', '']\n"
     ]
    }
   ],
   "source": [
    "print_results(res)"
   ]
  },
  {
   "cell_type": "markdown",
   "id": "ec8194cc-51ce-47b3-a20e-b9e02c88e3ac",
   "metadata": {},
   "source": [
    "---\n",
    "# n = 4\n",
    "### (example given in the assignment)\n",
    "---"
   ]
  },
  {
   "cell_type": "code",
   "execution_count": 16,
   "id": "4e7d3cd1-0ba0-489a-9326-bfc0e046410f",
   "metadata": {
    "tags": []
   },
   "outputs": [],
   "source": [
    "n, m = 4, 1\n",
    "formulas = [\n",
    "    'P|(Q&(R>T))',\n",
    "    'P>R',\n",
    "    'Q>T',\n",
    "    'Q>(R=T)',\n",
    "]\n",
    "query='R'"
   ]
  },
  {
   "cell_type": "markdown",
   "id": "7e7f5104-4f18-43bf-a9f0-1c2fd7532b04",
   "metadata": {
    "tags": []
   },
   "source": [
    "### Uninformed Search (BFS)"
   ]
  },
  {
   "cell_type": "code",
   "execution_count": 17,
   "id": "5829ad35-1d8e-48df-8ee9-8b53560ef085",
   "metadata": {
    "scrolled": true,
    "tags": []
   },
   "outputs": [
    {
     "name": "stdout",
     "output_type": "stream",
     "text": [
      "['P|Q', 'P|!R|T', '!P|R', '!Q|T', '!Q|R|!T', '!Q|!R|T', '!R']\n",
      "['P|Q', 'P|!R|T', '!P|R', '!Q|T', '!Q|R|!T', '!Q|!R|T', '!R', 'Q|R']\n",
      "['P|Q', 'P|!R|T', '!P|R', '!Q|T', '!Q|R|!T', '!Q|!R|T', '!R', 'P|T']\n",
      "['P|Q', 'P|!R|T', '!P|R', '!Q|T', '!Q|R|!T', '!Q|!R|T', '!R', 'P|R|!T']\n",
      "['P|Q', 'P|!R|T', '!P|R', '!Q|T', '!Q|R|!T', '!Q|!R|T', '!R', 'P|!P|T']\n",
      "['P|Q', 'P|!R|T', '!P|R', '!Q|T', '!Q|R|!T', '!Q|!R|T', '!R', 'P|!Q|R|!R']\n",
      "['P|Q', 'P|!R|T', '!P|R', '!Q|T', '!Q|R|!T', '!Q|!R|T', '!R', '!P|!Q|T']\n",
      "['P|Q', 'P|!R|T', '!P|R', '!Q|T', '!Q|R|!T', '!Q|!R|T', '!R', '!P']\n",
      "['P|Q', 'P|!R|T', '!P|R', '!Q|T', '!Q|R|!T', '!Q|!R|T', '!R', '!Q|R']\n",
      "['P|Q', 'P|!R|T', '!P|R', '!Q|T', '!Q|R|!T', '!Q|!R|T', '!R', '!Q|R|!R']\n",
      "['P|Q', 'P|!R|T', '!P|R', '!Q|T', '!Q|R|!T', '!Q|!R|T', '!R', '!Q|!T']\n",
      "['P|Q', 'P|!R|T', '!P|R', '!Q|T', '!Q|R|!T', '!Q|!R|T', '!R', 'Q|R', 'P|Q|T']\n",
      "['P|Q', 'P|!R|T', '!P|R', '!Q|T', '!Q|R|!T', '!Q|!R|T', '!R', 'Q|R', 'R|T']\n",
      "['P|Q', 'P|!R|T', '!P|R', '!Q|T', '!Q|R|!T', '!Q|!R|T', '!R', 'Q|R', 'R|!T']\n",
      "['P|Q', 'P|!R|T', '!P|R', '!Q|T', '!Q|R|!T', '!Q|!R|T', '!R', 'Q|R', '!Q|Q|T']\n",
      "['P|Q', 'P|!R|T', '!P|R', '!Q|T', '!Q|R|!T', '!Q|!R|T', '!R', 'Q|R', 'Q']\n",
      "['P|Q', 'P|!R|T', '!P|R', '!Q|T', '!Q|R|!T', '!Q|!R|T', '!R', 'P|T', 'R|T']\n",
      "['P|Q', 'P|!R|T', '!P|R', '!Q|T', '!Q|R|!T', '!Q|!R|T', '!R', 'P|T', 'P|!Q|R']\n",
      "['P|Q', 'P|!R|T', '!P|R', '!Q|T', '!Q|R|!T', '!Q|!R|T', '!R', 'P|R|!T', 'P|R|!R']\n",
      "['P|Q', 'P|!R|T', '!P|R', '!Q|T', '!Q|R|!T', '!Q|!R|T', '!R', 'P|R|!T', 'R|!T']\n",
      "['P|Q', 'P|!R|T', '!P|R', '!Q|T', '!Q|R|!T', '!Q|!R|T', '!R', 'P|R|!T', 'P|!Q|R']\n",
      "['P|Q', 'P|!R|T', '!P|R', '!Q|T', '!Q|R|!T', '!Q|!R|T', '!R', 'P|R|!T', 'P|!Q|R|!R']\n",
      "['P|Q', 'P|!R|T', '!P|R', '!Q|T', '!Q|R|!T', '!Q|!R|T', '!R', 'P|R|!T', 'P|!T']\n",
      "['P|Q', 'P|!R|T', '!P|R', '!Q|T', '!Q|R|!T', '!Q|!R|T', '!R', 'P|!P|T', 'P|Q|T']\n",
      "['P|Q', 'P|!R|T', '!P|R', '!Q|T', '!Q|R|!T', '!Q|!R|T', '!R', 'P|!P|T', '!P|R|T']\n",
      "['P|Q', 'P|!R|T', '!P|R', '!Q|T', '!Q|R|!T', '!Q|!R|T', '!R', 'P|!P|T', 'P|!P|!Q|R']\n",
      "['P|Q', 'P|!R|T', '!P|R', '!Q|T', '!Q|R|!T', '!Q|!R|T', '!R', 'P|!Q|R|!R', 'P|R|!R']\n",
      "['P|Q', 'P|!R|T', '!P|R', '!Q|T', '!Q|R|!T', '!Q|!R|T', '!R', 'P|!Q|R|!R', 'P|!Q|!R|T']\n",
      "['P|Q', 'P|!R|T', '!P|R', '!Q|T', '!Q|R|!T', '!Q|!R|T', '!R', 'P|!Q|R|!R', 'P|!P|!Q|R']\n",
      "['P|Q', 'P|!R|T', '!P|R', '!Q|T', '!Q|R|!T', '!Q|!R|T', '!R', 'P|!Q|R|!R', 'P|!Q|R|!T']\n",
      "['P|Q', 'P|!R|T', '!P|R', '!Q|T', '!Q|R|!T', '!Q|!R|T', '!R', 'P|!Q|R|!R', 'P|!Q|!R|T']\n",
      "['P|Q', 'P|!R|T', '!P|R', '!Q|T', '!Q|R|!T', '!Q|!R|T', '!R', 'P|!Q|R|!R', 'P|!Q|!R']\n",
      "['P|Q', 'P|!R|T', '!P|R', '!Q|T', '!Q|R|!T', '!Q|!R|T', '!R', '!P|!Q|T', 'P|!P|T']\n",
      "['P|Q', 'P|!R|T', '!P|R', '!Q|T', '!Q|R|!T', '!Q|!R|T', '!R', '!P|!Q|T', '!P|!Q|R']\n",
      "['P|Q', 'P|!R|T', '!P|R', '!Q|T', '!Q|R|!T', '!Q|!R|T', '!R', '!P', 'Q']\n",
      "['P|Q', 'P|!R|T', '!P|R', '!Q|T', '!Q|R|!T', '!Q|!R|T', '!R', '!P', '!R|T']\n",
      "['P|Q', 'P|!R|T', '!P|R', '!Q|T', '!Q|R|!T', '!Q|!R|T', '!R', '!Q|R', 'P|R']\n",
      "['P|Q', 'P|!R|T', '!P|R', '!Q|T', '!Q|R|!T', '!Q|!R|T', '!R', '!Q|R', 'P|!Q|T']\n",
      "['P|Q', 'P|!R|T', '!P|R', '!Q|T', '!Q|R|!T', '!Q|!R|T', '!R', '!Q|R', '!Q']\n",
      "['P|Q', 'P|!R|T', '!P|R', '!Q|T', '!Q|R|!T', '!Q|!R|T', '!R', '!Q|R|!R', 'P|R|!R']\n",
      "['P|Q', 'P|!R|T', '!P|R', '!Q|T', '!Q|R|!T', '!Q|!R|T', '!R', '!Q|R|!R', 'P|!Q|!R|T']\n",
      "['P|Q', 'P|!R|T', '!P|R', '!Q|T', '!Q|R|!T', '!Q|!R|T', '!R', '!Q|R|!R', '!P|!Q|R']\n",
      "['P|Q', 'P|!R|T', '!P|R', '!Q|T', '!Q|R|!T', '!Q|!R|T', '!R', '!Q|R|!R', '!Q|!R']\n",
      "['P|Q', 'P|!R|T', '!P|R', '!Q|T', '!Q|R|!T', '!Q|!R|T', '!R', '!Q|!T', 'P|!T']\n",
      "['P|Q', 'P|!R|T', '!P|R', '!Q|T', '!Q|R|!T', '!Q|!R|T', '!R', '!Q|!T', 'P|!Q|!R']\n",
      "['P|Q', 'P|!R|T', '!P|R', '!Q|T', '!Q|R|!T', '!Q|!R|T', '!R', '!Q|!T', '!Q']\n",
      "['P|Q', 'P|!R|T', '!P|R', '!Q|T', '!Q|R|!T', '!Q|!R|T', '!R', '!Q|!T', '!Q|!R']\n",
      "['P|Q', 'P|!R|T', '!P|R', '!Q|T', '!Q|R|!T', '!Q|!R|T', '!R', 'Q|R', 'P|Q|T', 'Q|R|T']\n",
      "['P|Q', 'P|!R|T', '!P|R', '!Q|T', '!Q|R|!T', '!Q|!R|T', '!R', 'Q|R', 'P|Q|T', 'P|T']\n",
      "['P|Q', 'P|!R|T', '!P|R', '!Q|T', '!Q|R|!T', '!Q|!R|T', '!R', 'Q|R', 'P|Q|T', 'P|!Q|Q|R']\n",
      "['P|Q', 'P|!R|T', '!P|R', '!Q|T', '!Q|R|!T', '!Q|!R|T', '!R', 'Q|R', 'R|T', 'P|T']\n",
      "['P|Q', 'P|!R|T', '!P|R', '!Q|T', '!Q|R|!T', '!Q|!R|T', '!R', 'Q|R', 'R|T', '!Q|R']\n",
      "['P|Q', 'P|!R|T', '!P|R', '!Q|T', '!Q|R|!T', '!Q|!R|T', '!R', 'Q|R', 'R|T', 'T']\n",
      "['P|Q', 'P|!R|T', '!P|R', '!Q|T', '!Q|R|!T', '!Q|!R|T', '!R', 'Q|R', 'R|!T', 'P|R|!R']\n",
      "['P|Q', 'P|!R|T', '!P|R', '!Q|T', '!Q|R|!T', '!Q|!R|T', '!R', 'Q|R', 'R|!T', '!Q|R']\n",
      "['P|Q', 'P|!R|T', '!P|R', '!Q|T', '!Q|R|!T', '!Q|!R|T', '!R', 'Q|R', 'R|!T', '!Q|R|!R']\n",
      "['P|Q', 'P|!R|T', '!P|R', '!Q|T', '!Q|R|!T', '!Q|!R|T', '!R', 'Q|R', 'R|!T', '!T']\n",
      "['P|Q', 'P|!R|T', '!P|R', '!Q|T', '!Q|R|!T', '!Q|!R|T', '!R', 'Q|R', '!Q|Q|T', 'P|Q|T']\n",
      "['P|Q', 'P|!R|T', '!P|R', '!Q|T', '!Q|R|!T', '!Q|!R|T', '!R', 'Q|R', '!Q|Q|T', '!Q|Q|R']\n",
      "['P|Q', 'P|!R|T', '!P|R', '!Q|T', '!Q|R|!T', '!Q|!R|T', '!R', 'Q|R', '!Q|Q|T', 'Q|R|T']\n",
      "['P|Q', 'P|!R|T', '!P|R', '!Q|T', '!Q|R|!T', '!Q|!R|T', '!R', 'Q|R', 'Q', 'T']\n",
      "['P|Q', 'P|!R|T', '!P|R', '!Q|T', '!Q|R|!T', '!Q|!R|T', '!R', 'Q|R', 'Q', 'R|!T']\n",
      "['P|Q', 'P|!R|T', '!P|R', '!Q|T', '!Q|R|!T', '!Q|!R|T', '!R', 'Q|R', 'Q', '!R|T']\n",
      "['P|Q', 'P|!R|T', '!P|R', '!Q|T', '!Q|R|!T', '!Q|!R|T', '!R', 'P|T', 'P|!Q|R', 'P|R']\n",
      "['P|Q', 'P|!R|T', '!P|R', '!Q|T', '!Q|R|!T', '!Q|!R|T', '!R', 'P|T', 'P|!Q|R', 'P|!Q|T']\n",
      "['P|Q', 'P|!R|T', '!P|R', '!Q|T', '!Q|R|!T', '!Q|!R|T', '!R', 'P|T', 'P|!Q|R', '!Q|R']\n",
      "['P|Q', 'P|!R|T', '!P|R', '!Q|T', '!Q|R|!T', '!Q|!R|T', '!R', 'P|T', 'P|!Q|R', 'P|!Q|T']\n",
      "['P|Q', 'P|!R|T', '!P|R', '!Q|T', '!Q|R|!T', '!Q|!R|T', '!R', 'P|T', 'P|!Q|R', 'P|!Q']\n",
      "['P|Q', 'P|!R|T', '!P|R', '!Q|T', '!Q|R|!T', '!Q|!R|T', '!R', 'P|R|!T', 'P|R|!R', 'P|!P|R']\n",
      "['P|Q', 'P|!R|T', '!P|R', '!Q|T', '!Q|R|!T', '!Q|!R|T', '!R', 'P|R|!T', 'P|R|!R', 'P|!Q|R|!T']\n",
      "['P|Q', 'P|!R|T', '!P|R', '!Q|T', '!Q|R|!T', '!Q|!R|T', '!R', 'P|R|!T', 'P|R|!R', 'P|!Q|!R|T']\n",
      "['P|Q', 'P|!R|T', '!P|R', '!Q|T', '!Q|R|!T', '!Q|!R|T', '!R', 'P|R|!T', 'P|R|!R', 'P|!R']\n",
      "['P|Q', 'P|!R|T', '!P|R', '!Q|T', '!Q|R|!T', '!Q|!R|T', '!R', 'P|R|!T', 'P|!Q|R|!R', 'P|!Q|R|!T']\n",
      "['P|Q', 'P|!R|T', '!P|R', '!Q|T', '!Q|R|!T', '!Q|!R|T', '!R', 'P|R|!T', 'P|!T', 'P|!R']\n",
      "['P|Q', 'P|!R|T', '!P|R', '!Q|T', '!Q|R|!T', '!Q|!R|T', '!R', 'P|R|!T', 'P|!T', 'R|!T']\n",
      "['P|Q', 'P|!R|T', '!P|R', '!Q|T', '!Q|R|!T', '!Q|!R|T', '!R', 'P|R|!T', 'P|!T', 'P|!Q']\n",
      "['P|Q', 'P|!R|T', '!P|R', '!Q|T', '!Q|R|!T', '!Q|!R|T', '!R', 'P|R|!T', 'P|!T', 'P|!Q|!R']\n",
      "['P|Q', 'P|!R|T', '!P|R', '!Q|T', '!Q|R|!T', '!Q|!R|T', '!R', 'P|!P|T', '!P|R|T', 'Q|R|T']\n",
      "['P|Q', 'P|!R|T', '!P|R', '!Q|T', '!Q|R|!T', '!Q|!R|T', '!R', 'P|!P|T', '!P|R|T', '!P|!Q|R']\n",
      "['P|Q', 'P|!R|T', '!P|R', '!Q|T', '!Q|R|!T', '!Q|!R|T', '!R', 'P|!P|T', '!P|R|T', '!P|!Q|T']\n",
      "['P|Q', 'P|!R|T', '!P|R', '!Q|T', '!Q|R|!T', '!Q|!R|T', '!R', 'P|!P|T', '!P|R|T', '!P|T']\n",
      "['P|Q', 'P|!R|T', '!P|R', '!Q|T', '!Q|R|!T', '!Q|!R|T', '!R', 'P|!P|T', 'P|!P|!Q|R', 'P|!P|R']\n",
      "['P|Q', 'P|!R|T', '!P|R', '!Q|T', '!Q|R|!T', '!Q|!R|T', '!R', 'P|!P|T', 'P|!P|!Q|R', 'P|!P|!Q|T']\n",
      "['P|Q', 'P|!R|T', '!P|R', '!Q|T', '!Q|R|!T', '!Q|!R|T', '!R', 'P|!P|T', 'P|!P|!Q|R', '!P|!Q|R']\n",
      "['P|Q', 'P|!R|T', '!P|R', '!Q|T', '!Q|R|!T', '!Q|!R|T', '!R', 'P|!P|T', 'P|!P|!Q|R', 'P|!P|!Q|T']\n",
      "['P|Q', 'P|!R|T', '!P|R', '!Q|T', '!Q|R|!T', '!Q|!R|T', '!R', 'P|!P|T', 'P|!P|!Q|R', 'P|!P|!Q']\n",
      "['P|Q', 'P|!R|T', '!P|R', '!Q|T', '!Q|R|!T', '!Q|!R|T', '!R', 'P|!P|T', 'P|!P|!Q|R', 'P|!P|!Q|R|T']\n",
      "['P|Q', 'P|!R|T', '!P|R', '!Q|T', '!Q|R|!T', '!Q|!R|T', '!R', 'P|!Q|R|!R', 'P|!Q|!R|T', 'P|!P|!Q|T']\n",
      "['P|Q', 'P|!R|T', '!P|R', '!Q|T', '!Q|R|!T', '!Q|!R|T', '!R', 'P|!Q|R|!R', 'P|!Q|R|!T', 'P|R|!T']\n",
      "['P|Q', 'P|!R|T', '!P|R', '!Q|T', '!Q|R|!T', '!Q|!R|T', '!R', 'P|!Q|R|!R', 'P|!Q|R|!T', 'P|!Q|R']\n",
      "['P|Q', 'P|!R|T', '!P|R', '!Q|T', '!Q|R|!T', '!Q|!R|T', '!R', 'P|!Q|R|!R', 'P|!Q|R|!T', 'P|!Q|!T']\n",
      "['P|Q', 'P|!R|T', '!P|R', '!Q|T', '!Q|R|!T', '!Q|!R|T', '!R', 'P|!Q|R|!R', 'P|!Q|!R', 'P|!R']\n",
      "['P|Q', 'P|!R|T', '!P|R', '!Q|T', '!Q|R|!T', '!Q|!R|T', '!R', 'P|!Q|R|!R', 'P|!Q|!R', 'P|!P|!Q']\n",
      "['P|Q', 'P|!R|T', '!P|R', '!Q|T', '!Q|R|!T', '!Q|!R|T', '!R', 'P|!Q|R|!R', 'P|!Q|!R', 'P|!Q|!T']\n",
      "['P|Q', 'P|!R|T', '!P|R', '!Q|T', '!Q|R|!T', '!Q|!R|T', '!R', '!P|!Q|T', '!P|!Q|R', 'P|!P|R']\n",
      "['P|Q', 'P|!R|T', '!P|R', '!Q|T', '!Q|R|!T', '!Q|!R|T', '!R', '!P|!Q|T', '!P|!Q|R', 'P|!P|!Q|T']\n",
      "['P|Q', 'P|!R|T', '!P|R', '!Q|T', '!Q|R|!T', '!Q|!R|T', '!R', '!P|!Q|T', '!P|!Q|R', '!P|!Q']\n",
      "['P|Q', 'P|!R|T', '!P|R', '!Q|T', '!Q|R|!T', '!Q|!R|T', '!R', '!P', '!R|T', '!P|T']\n",
      "['P|Q', 'P|!R|T', '!P|R', '!Q|T', '!Q|R|!T', '!Q|!R|T', '!R', '!P', '!R|T', '!Q|R|!R']\n",
      "['P|Q', 'P|!R|T', '!P|R', '!Q|T', '!Q|R|!T', '!Q|!R|T', '!R', '!Q|R', 'P|R', 'P|T']\n",
      "['P|Q', 'P|!R|T', '!P|R', '!Q|T', '!Q|R|!T', '!Q|!R|T', '!R', '!Q|R', 'P|R', 'R']\n",
      "!R, R resolved to Empty Clause\n",
      "1\n"
     ]
    }
   ],
   "source": [
    "res = solve(n, m, formulas, query, method='uninformed', submethod='BFS')"
   ]
  },
  {
   "cell_type": "code",
   "execution_count": 18,
   "id": "5a274df9-8a06-49a3-ba20-1814ff2c471b",
   "metadata": {
    "tags": []
   },
   "outputs": [
    {
     "name": "stdout",
     "output_type": "stream",
     "text": [
      "total number of nodes explored: 101\n",
      "execution time: 0.009304 seconds\n",
      "\n",
      "number of nodes in the path: 5\n",
      "path:\n",
      "['P|Q', 'P|!R|T', '!P|R', '!Q|T', '!Q|R|!T', '!Q|!R|T', '!R']\n",
      "['P|Q', 'P|!R|T', '!P|R', '!Q|T', '!Q|R|!T', '!Q|!R|T', '!R', '!Q|R']\n",
      "['P|Q', 'P|!R|T', '!P|R', '!Q|T', '!Q|R|!T', '!Q|!R|T', '!R', '!Q|R', 'P|R']\n",
      "['P|Q', 'P|!R|T', '!P|R', '!Q|T', '!Q|R|!T', '!Q|!R|T', '!R', '!Q|R', 'P|R', 'R']\n",
      "['P|Q', 'P|!R|T', '!P|R', '!Q|T', '!Q|R|!T', '!Q|!R|T', '!R', '!Q|R', 'P|R', 'R', '']\n"
     ]
    }
   ],
   "source": [
    "print_results(res)"
   ]
  },
  {
   "cell_type": "markdown",
   "id": "68c02a98-9cd9-4738-8474-3d2eac945c49",
   "metadata": {
    "tags": []
   },
   "source": [
    "### Uninformed Search (DFS)"
   ]
  },
  {
   "cell_type": "code",
   "execution_count": 19,
   "id": "77f774f0-7811-43aa-9d5d-05a4e56cf7fd",
   "metadata": {
    "scrolled": true,
    "tags": []
   },
   "outputs": [
    {
     "name": "stdout",
     "output_type": "stream",
     "text": [
      "['P|Q', 'P|!R|T', '!P|R', '!Q|T', '!Q|R|!T', '!Q|!R|T', '!R']\n",
      "['P|Q', 'P|!R|T', '!P|R', '!Q|T', '!Q|R|!T', '!Q|!R|T', '!R', '!Q|!T']\n",
      "['P|Q', 'P|!R|T', '!P|R', '!Q|T', '!Q|R|!T', '!Q|!R|T', '!R', '!Q|!T', '!Q|!R']\n",
      "['P|Q', 'P|!R|T', '!P|R', '!Q|T', '!Q|R|!T', '!Q|!R|T', '!R', '!Q|!T', '!Q|!R', '!P|!Q']\n",
      "['P|Q', 'P|!R|T', '!P|R', '!Q|T', '!Q|R|!T', '!Q|!R|T', '!R', '!Q|!T', '!Q|!R', '!P|!Q', 'P|!P']\n",
      "['P|Q', 'P|!R|T', '!P|R', '!Q|T', '!Q|R|!T', '!Q|!R|T', '!R', '!Q|!T', '!Q|!R', 'P|!R']\n",
      "['P|Q', 'P|!R|T', '!P|R', '!Q|T', '!Q|R|!T', '!Q|!R|T', '!R', '!Q|!T', '!Q|!R', 'P|!R', 'P|!Q|!T']\n",
      "['P|Q', 'P|!R|T', '!P|R', '!Q|T', '!Q|R|!T', '!Q|!R|T', '!R', '!Q|!T', '!Q|!R', 'P|!R', 'P|!Q|!T', 'P|!Q|!R']\n",
      "['P|Q', 'P|!R|T', '!P|R', '!Q|T', '!Q|R|!T', '!Q|!R|T', '!R', '!Q|!T', '!Q|!R', 'P|!R', 'P|!Q|!T', 'P|!Q|!R', 'P|!P|!Q']\n",
      "['P|Q', 'P|!R|T', '!P|R', '!Q|T', '!Q|R|!T', '!Q|!R|T', '!R', '!Q|!T', '!Q|!R', 'P|!R', 'P|!Q|!T', 'P|!Q|!R', 'P|!P|!Q', '!P|!Q|R']\n",
      "['P|Q', 'P|!R|T', '!P|R', '!Q|T', '!Q|R|!T', '!Q|!R|T', '!R', '!Q|!T', '!Q|!R', 'P|!R', 'P|!Q|!T', 'P|!Q|!R', 'P|!P|!Q', '!P|!Q|R', '!P|!Q']\n",
      "['P|Q', 'P|!R|T', '!P|R', '!Q|T', '!Q|R|!T', '!Q|!R|T', '!R', '!Q|!T', '!Q|!R', 'P|!R', 'P|!Q|!T', 'P|!Q|!R', 'P|!P|!Q', '!P|!Q|R', '!P|!Q']\n",
      "['P|Q', 'P|!R|T', '!P|R', '!Q|T', '!Q|R|!T', '!Q|!R|T', '!R', '!Q|!T', '!Q|!R', 'P|!R', 'P|!Q|!T', 'P|!Q|!R', 'P|!P|!Q', '!P|!Q|R', '!P|!Q|T']\n",
      "['P|Q', 'P|!R|T', '!P|R', '!Q|T', '!Q|R|!T', '!Q|!R|T', '!R', '!Q|!T', '!Q|!R', 'P|!R', 'P|!Q|!T', 'P|!Q|!R', 'P|!P|!Q', '!P|!Q|R', '!P|!Q|T', '!P|!Q']\n",
      "['P|Q', 'P|!R|T', '!P|R', '!Q|T', '!Q|R|!T', '!Q|!R|T', '!R', '!Q|!T', '!Q|!R', 'P|!R', 'P|!Q|!T', 'P|!Q|!R', 'P|!P|!Q', '!P|!Q|R', '!P|!Q|T', 'P|!P|T']\n",
      "['P|Q', 'P|!R|T', '!P|R', '!Q|T', '!Q|R|!T', '!Q|!R|T', '!R', '!Q|!T', '!Q|!R', 'P|!R', 'P|!Q|!T', 'P|!Q|!R', 'P|!P|!Q', '!P|!Q|R', '!P|!Q|T', 'P|!P|T', '!P|!Q|R|T']\n",
      "['P|Q', 'P|!R|T', '!P|R', '!Q|T', '!Q|R|!T', '!Q|!R|T', '!R', '!Q|!T', '!Q|!R', 'P|!R', 'P|!Q|!T', 'P|!Q|!R', 'P|!P|!Q', '!P|!Q|R', '!P|!Q|T', 'P|!P|T', '!P|!Q|R|T', 'P|!P|!Q|T']\n",
      "['P|Q', 'P|!R|T', '!P|R', '!Q|T', '!Q|R|!T', '!Q|!R|T', '!R', '!Q|!T', '!Q|!R', 'P|!R', 'P|!Q|!T', 'P|!Q|!R', 'P|!P|!Q', '!P|!Q|R', '!P|!Q|T', 'P|!P|T', '!P|!Q|R|T', 'P|!P|!Q|T', 'P|!Q|!R|T']\n",
      "['P|Q', 'P|!R|T', '!P|R', '!Q|T', '!Q|R|!T', '!Q|!R|T', '!R', '!Q|!T', '!Q|!R', 'P|!R', 'P|!Q|!T', 'P|!Q|!R', 'P|!P|!Q', '!P|!Q|R', '!P|!Q|T', 'P|!P|T', '!P|!Q|R|T', 'P|!P|!Q|T', 'P|!Q|!R|T', 'P|!Q|R|!R']\n",
      "['P|Q', 'P|!R|T', '!P|R', '!Q|T', '!Q|R|!T', '!Q|!R|T', '!R', '!Q|!T', '!Q|!R', 'P|!R', 'P|!Q|!T', 'P|!Q|!R', 'P|!P|!Q', '!P|!Q|R', '!P|!Q|T', 'P|!P|T', '!P|!Q|R|T', 'P|!P|!Q|T', 'P|!Q|!R|T', 'P|!Q|R|!R', 'P|!Q|R|!R|T']\n",
      "['P|Q', 'P|!R|T', '!P|R', '!Q|T', '!Q|R|!T', '!Q|!R|T', '!R', '!Q|!T', '!Q|!R', 'P|!R', 'P|!Q|!T', 'P|!Q|!R', 'P|!P|!Q', '!P|!Q|R', '!P|!Q|T', 'P|!P|T', '!P|!Q|R|T', 'P|!P|!Q|T', 'P|!Q|!R|T', 'P|!Q|R|!R', 'P|!Q|R|!R|T', 'P|!P|!Q|R|T']\n",
      "['P|Q', 'P|!R|T', '!P|R', '!Q|T', '!Q|R|!T', '!Q|!R|T', '!R', '!Q|!T', '!Q|!R', 'P|!R', 'P|!Q|!T', 'P|!Q|!R', 'P|!P|!Q', '!P|!Q|R', '!P|!Q|T', 'P|!P|T', '!P|!Q|R|T', 'P|!P|!Q|T', 'P|!Q|!R|T', 'P|!Q|R|!R', 'P|!Q|R|!R|T', 'P|!P|!Q|R|T', 'P|!P|!Q|R']\n",
      "['P|Q', 'P|!R|T', '!P|R', '!Q|T', '!Q|R|!T', '!Q|!R|T', '!R', '!Q|!T', '!Q|!R', 'P|!R', 'P|!Q|!T', 'P|!Q|!R', 'P|!P|!Q', '!P|!Q|R', '!P|!Q|T', 'P|!P|T', '!P|!Q|R|T', 'P|!P|!Q|T', 'P|!Q|!R|T', 'P|!Q|R|!R', 'P|!Q|R|!R|T', 'P|!P|!Q|R|T', 'P|!P|!Q|R', 'P|!Q|R|!T']\n",
      "['P|Q', 'P|!R|T', '!P|R', '!Q|T', '!Q|R|!T', '!Q|!R|T', '!R', '!Q|!T', '!Q|!R', 'P|!R', 'P|!Q|!T', 'P|!Q|!R', 'P|!P|!Q', '!P|!Q|R', '!P|!Q|T', 'P|!P|T', '!P|!Q|R|T', 'P|!P|!Q|T', 'P|!Q|!R|T', 'P|!Q|R|!R', 'P|!Q|R|!R|T', 'P|!P|!Q|R|T', 'P|!P|!Q|R', 'P|!Q|R|!T', 'P|!Q|R']\n",
      "['P|Q', 'P|!R|T', '!P|R', '!Q|T', '!Q|R|!T', '!Q|!R|T', '!R', '!Q|!T', '!Q|!R', 'P|!R', 'P|!Q|!T', 'P|!Q|!R', 'P|!P|!Q', '!P|!Q|R', '!P|!Q|T', 'P|!P|T', '!P|!Q|R|T', 'P|!P|!Q|T', 'P|!Q|!R|T', 'P|!Q|R|!R', 'P|!Q|R|!R|T', 'P|!P|!Q|R|T', 'P|!P|!Q|R', 'P|!Q|R|!T', 'P|!Q|R', 'P|!Q|R|T']\n",
      "['P|Q', 'P|!R|T', '!P|R', '!Q|T', '!Q|R|!T', '!Q|!R|T', '!R', '!Q|!T', '!Q|!R', 'P|!R', 'P|!Q|!T', 'P|!Q|!R', 'P|!P|!Q', '!P|!Q|R', '!P|!Q|T', 'P|!P|T', '!P|!Q|R|T', 'P|!P|!Q|T', 'P|!Q|!R|T', 'P|!Q|R|!R', 'P|!Q|R|!R|T', 'P|!P|!Q|R|T', 'P|!P|!Q|R', 'P|!Q|R|!T', 'P|!Q|R', 'P|!Q|R|T', 'P|!Q|T']\n",
      "['P|Q', 'P|!R|T', '!P|R', '!Q|T', '!Q|R|!T', '!Q|!R|T', '!R', '!Q|!T', '!Q|!R', 'P|!R', 'P|!Q|!T', 'P|!Q|!R', 'P|!P|!Q', '!P|!Q|R', '!P|!Q|T', 'P|!P|T', '!P|!Q|R|T', 'P|!P|!Q|T', 'P|!Q|!R|T', 'P|!Q|R|!R', 'P|!Q|R|!R|T', 'P|!P|!Q|R|T', 'P|!P|!Q|R', 'P|!Q|R|!T', 'P|!Q|R', 'P|!Q|R|T', 'P|!Q|T', '!Q|R|T']\n",
      "['P|Q', 'P|!R|T', '!P|R', '!Q|T', '!Q|R|!T', '!Q|!R|T', '!R', '!Q|!T', '!Q|!R', 'P|!R', 'P|!Q|!T', 'P|!Q|!R', 'P|!P|!Q', '!P|!Q|R', '!P|!Q|T', 'P|!P|T', '!P|!Q|R|T', 'P|!P|!Q|T', 'P|!Q|!R|T', 'P|!Q|R|!R', 'P|!Q|R|!R|T', 'P|!P|!Q|R|T', 'P|!P|!Q|R', 'P|!Q|R|!T', 'P|!Q|R', 'P|!Q|R|T', 'P|!Q|T', '!Q|R|T', '!Q|R']\n",
      "['P|Q', 'P|!R|T', '!P|R', '!Q|T', '!Q|R|!T', '!Q|!R|T', '!R', '!Q|!T', '!Q|!R', 'P|!R', 'P|!Q|!T', 'P|!Q|!R', 'P|!P|!Q', '!P|!Q|R', '!P|!Q|T', 'P|!P|T', '!P|!Q|R|T', 'P|!P|!Q|T', 'P|!Q|!R|T', 'P|!Q|R|!R', 'P|!Q|R|!R|T', 'P|!P|!Q|R|T', 'P|!P|!Q|R', 'P|!Q|R|!T', 'P|!Q|R', 'P|!Q|R|T', 'P|!Q|T', '!Q|R|T', '!Q|R', 'P|!Q']\n",
      "['P|Q', 'P|!R|T', '!P|R', '!Q|T', '!Q|R|!T', '!Q|!R|T', '!R', '!Q|!T', '!Q|!R', 'P|!R', 'P|!Q|!T', 'P|!Q|!R', 'P|!P|!Q', '!P|!Q|R', '!P|!Q|T', 'P|!P|T', '!P|!Q|R|T', 'P|!P|!Q|T', 'P|!Q|!R|T', 'P|!Q|R|!R', 'P|!Q|R|!R|T', 'P|!P|!Q|R|T', 'P|!P|!Q|R', 'P|!Q|R|!T', 'P|!Q|R', 'P|!Q|R|T', 'P|!Q|T', '!Q|R|T', '!Q|R', 'P|!Q', 'P']\n",
      "['P|Q', 'P|!R|T', '!P|R', '!Q|T', '!Q|R|!T', '!Q|!R|T', '!R', '!Q|!T', '!Q|!R', 'P|!R', 'P|!Q|!T', 'P|!Q|!R', 'P|!P|!Q', '!P|!Q|R', '!P|!Q|T', 'P|!P|T', '!P|!Q|R|T', 'P|!P|!Q|T', 'P|!Q|!R|T', 'P|!Q|R|!R', 'P|!Q|R|!R|T', 'P|!P|!Q|R|T', 'P|!P|!Q|R', 'P|!Q|R|!T', 'P|!Q|R', 'P|!Q|R|T', 'P|!Q|T', '!Q|R|T', '!Q|R', 'P|!Q', 'P', 'P|T']\n",
      "['P|Q', 'P|!R|T', '!P|R', '!Q|T', '!Q|R|!T', '!Q|!R|T', '!R', '!Q|!T', '!Q|!R', 'P|!R', 'P|!Q|!T', 'P|!Q|!R', 'P|!P|!Q', '!P|!Q|R', '!P|!Q|T', 'P|!P|T', '!P|!Q|R|T', 'P|!P|!Q|T', 'P|!Q|!R|T', 'P|!Q|R|!R', 'P|!Q|R|!R|T', 'P|!P|!Q|R|T', 'P|!P|!Q|R', 'P|!Q|R|!T', 'P|!Q|R', 'P|!Q|R|T', 'P|!Q|T', '!Q|R|T', '!Q|R', 'P|!Q', 'P', 'P|T', 'R|T']\n",
      "['P|Q', 'P|!R|T', '!P|R', '!Q|T', '!Q|R|!T', '!Q|!R|T', '!R', '!Q|!T', '!Q|!R', 'P|!R', 'P|!Q|!T', 'P|!Q|!R', 'P|!P|!Q', '!P|!Q|R', '!P|!Q|T', 'P|!P|T', '!P|!Q|R|T', 'P|!P|!Q|T', 'P|!Q|!R|T', 'P|!Q|R|!R', 'P|!Q|R|!R|T', 'P|!P|!Q|R|T', 'P|!P|!Q|R', 'P|!Q|R|!T', 'P|!Q|R', 'P|!Q|R|T', 'P|!Q|T', '!Q|R|T', '!Q|R', 'P|!Q', 'P', 'P|T', 'R|T', 'T']\n",
      "['P|Q', 'P|!R|T', '!P|R', '!Q|T', '!Q|R|!T', '!Q|!R|T', '!R', '!Q|!T', '!Q|!R', 'P|!R', 'P|!Q|!T', 'P|!Q|!R', 'P|!P|!Q', '!P|!Q|R', '!P|!Q|T', 'P|!P|T', '!P|!Q|R|T', 'P|!P|!Q|T', 'P|!Q|!R|T', 'P|!Q|R|!R', 'P|!Q|R|!R|T', 'P|!P|!Q|R|T', 'P|!P|!Q|R', 'P|!Q|R|!T', 'P|!Q|R', 'P|!Q|R|T', 'P|!Q|T', '!Q|R|T', '!Q|R', 'P|!Q', 'P', 'P|T', 'R|T', 'T', '!Q']\n",
      "['P|Q', 'P|!R|T', '!P|R', '!Q|T', '!Q|R|!T', '!Q|!R|T', '!R', '!Q|!T', '!Q|!R', 'P|!R', 'P|!Q|!T', 'P|!Q|!R', 'P|!P|!Q', '!P|!Q|R', '!P|!Q|T', 'P|!P|T', '!P|!Q|R|T', 'P|!P|!Q|T', 'P|!Q|!R|T', 'P|!Q|R|!R', 'P|!Q|R|!R|T', 'P|!P|!Q|R|T', 'P|!P|!Q|R', 'P|!Q|R|!T', 'P|!Q|R', 'P|!Q|R|T', 'P|!Q|T', '!Q|R|T', '!Q|R', 'P|!Q', 'P', 'R']\n",
      "!R, R resolved to Empty Clause\n",
      "1\n"
     ]
    }
   ],
   "source": [
    "res = solve(n, m, formulas, query, method='uninformed', submethod='DFS')"
   ]
  },
  {
   "cell_type": "code",
   "execution_count": 20,
   "id": "fffb36de-a811-4ac5-9e7b-c931b511af55",
   "metadata": {
    "scrolled": true,
    "tags": []
   },
   "outputs": [
    {
     "name": "stdout",
     "output_type": "stream",
     "text": [
      "total number of nodes explored: 35\n",
      "execution time: 0.029135 seconds\n",
      "\n",
      "number of nodes in the path: 27\n",
      "path:\n",
      "['P|Q', 'P|!R|T', '!P|R', '!Q|T', '!Q|R|!T', '!Q|!R|T', '!R']\n",
      "['P|Q', 'P|!R|T', '!P|R', '!Q|T', '!Q|R|!T', '!Q|!R|T', '!R', '!Q|!T']\n",
      "['P|Q', 'P|!R|T', '!P|R', '!Q|T', '!Q|R|!T', '!Q|!R|T', '!R', '!Q|!T', '!Q|!R']\n",
      "['P|Q', 'P|!R|T', '!P|R', '!Q|T', '!Q|R|!T', '!Q|!R|T', '!R', '!Q|!T', '!Q|!R', 'P|!R']\n",
      "['P|Q', 'P|!R|T', '!P|R', '!Q|T', '!Q|R|!T', '!Q|!R|T', '!R', '!Q|!T', '!Q|!R', 'P|!R', 'P|!Q|!T']\n",
      "['P|Q', 'P|!R|T', '!P|R', '!Q|T', '!Q|R|!T', '!Q|!R|T', '!R', '!Q|!T', '!Q|!R', 'P|!R', 'P|!Q|!T', 'P|!Q|!R']\n",
      "['P|Q', 'P|!R|T', '!P|R', '!Q|T', '!Q|R|!T', '!Q|!R|T', '!R', '!Q|!T', '!Q|!R', 'P|!R', 'P|!Q|!T', 'P|!Q|!R', 'P|!P|!Q']\n",
      "['P|Q', 'P|!R|T', '!P|R', '!Q|T', '!Q|R|!T', '!Q|!R|T', '!R', '!Q|!T', '!Q|!R', 'P|!R', 'P|!Q|!T', 'P|!Q|!R', 'P|!P|!Q', '!P|!Q|R']\n",
      "['P|Q', 'P|!R|T', '!P|R', '!Q|T', '!Q|R|!T', '!Q|!R|T', '!R', '!Q|!T', '!Q|!R', 'P|!R', 'P|!Q|!T', 'P|!Q|!R', 'P|!P|!Q', '!P|!Q|R', '!P|!Q|T']\n",
      "['P|Q', 'P|!R|T', '!P|R', '!Q|T', '!Q|R|!T', '!Q|!R|T', '!R', '!Q|!T', '!Q|!R', 'P|!R', 'P|!Q|!T', 'P|!Q|!R', 'P|!P|!Q', '!P|!Q|R', '!P|!Q|T', 'P|!P|T']\n",
      "['P|Q', 'P|!R|T', '!P|R', '!Q|T', '!Q|R|!T', '!Q|!R|T', '!R', '!Q|!T', '!Q|!R', 'P|!R', 'P|!Q|!T', 'P|!Q|!R', 'P|!P|!Q', '!P|!Q|R', '!P|!Q|T', 'P|!P|T', '!P|!Q|R|T']\n",
      "['P|Q', 'P|!R|T', '!P|R', '!Q|T', '!Q|R|!T', '!Q|!R|T', '!R', '!Q|!T', '!Q|!R', 'P|!R', 'P|!Q|!T', 'P|!Q|!R', 'P|!P|!Q', '!P|!Q|R', '!P|!Q|T', 'P|!P|T', '!P|!Q|R|T', 'P|!P|!Q|T']\n",
      "['P|Q', 'P|!R|T', '!P|R', '!Q|T', '!Q|R|!T', '!Q|!R|T', '!R', '!Q|!T', '!Q|!R', 'P|!R', 'P|!Q|!T', 'P|!Q|!R', 'P|!P|!Q', '!P|!Q|R', '!P|!Q|T', 'P|!P|T', '!P|!Q|R|T', 'P|!P|!Q|T', 'P|!Q|!R|T']\n",
      "['P|Q', 'P|!R|T', '!P|R', '!Q|T', '!Q|R|!T', '!Q|!R|T', '!R', '!Q|!T', '!Q|!R', 'P|!R', 'P|!Q|!T', 'P|!Q|!R', 'P|!P|!Q', '!P|!Q|R', '!P|!Q|T', 'P|!P|T', '!P|!Q|R|T', 'P|!P|!Q|T', 'P|!Q|!R|T', 'P|!Q|R|!R']\n",
      "['P|Q', 'P|!R|T', '!P|R', '!Q|T', '!Q|R|!T', '!Q|!R|T', '!R', '!Q|!T', '!Q|!R', 'P|!R', 'P|!Q|!T', 'P|!Q|!R', 'P|!P|!Q', '!P|!Q|R', '!P|!Q|T', 'P|!P|T', '!P|!Q|R|T', 'P|!P|!Q|T', 'P|!Q|!R|T', 'P|!Q|R|!R', 'P|!Q|R|!R|T']\n",
      "['P|Q', 'P|!R|T', '!P|R', '!Q|T', '!Q|R|!T', '!Q|!R|T', '!R', '!Q|!T', '!Q|!R', 'P|!R', 'P|!Q|!T', 'P|!Q|!R', 'P|!P|!Q', '!P|!Q|R', '!P|!Q|T', 'P|!P|T', '!P|!Q|R|T', 'P|!P|!Q|T', 'P|!Q|!R|T', 'P|!Q|R|!R', 'P|!Q|R|!R|T', 'P|!P|!Q|R|T']\n",
      "['P|Q', 'P|!R|T', '!P|R', '!Q|T', '!Q|R|!T', '!Q|!R|T', '!R', '!Q|!T', '!Q|!R', 'P|!R', 'P|!Q|!T', 'P|!Q|!R', 'P|!P|!Q', '!P|!Q|R', '!P|!Q|T', 'P|!P|T', '!P|!Q|R|T', 'P|!P|!Q|T', 'P|!Q|!R|T', 'P|!Q|R|!R', 'P|!Q|R|!R|T', 'P|!P|!Q|R|T', 'P|!P|!Q|R']\n",
      "['P|Q', 'P|!R|T', '!P|R', '!Q|T', '!Q|R|!T', '!Q|!R|T', '!R', '!Q|!T', '!Q|!R', 'P|!R', 'P|!Q|!T', 'P|!Q|!R', 'P|!P|!Q', '!P|!Q|R', '!P|!Q|T', 'P|!P|T', '!P|!Q|R|T', 'P|!P|!Q|T', 'P|!Q|!R|T', 'P|!Q|R|!R', 'P|!Q|R|!R|T', 'P|!P|!Q|R|T', 'P|!P|!Q|R', 'P|!Q|R|!T']\n",
      "['P|Q', 'P|!R|T', '!P|R', '!Q|T', '!Q|R|!T', '!Q|!R|T', '!R', '!Q|!T', '!Q|!R', 'P|!R', 'P|!Q|!T', 'P|!Q|!R', 'P|!P|!Q', '!P|!Q|R', '!P|!Q|T', 'P|!P|T', '!P|!Q|R|T', 'P|!P|!Q|T', 'P|!Q|!R|T', 'P|!Q|R|!R', 'P|!Q|R|!R|T', 'P|!P|!Q|R|T', 'P|!P|!Q|R', 'P|!Q|R|!T', 'P|!Q|R']\n",
      "['P|Q', 'P|!R|T', '!P|R', '!Q|T', '!Q|R|!T', '!Q|!R|T', '!R', '!Q|!T', '!Q|!R', 'P|!R', 'P|!Q|!T', 'P|!Q|!R', 'P|!P|!Q', '!P|!Q|R', '!P|!Q|T', 'P|!P|T', '!P|!Q|R|T', 'P|!P|!Q|T', 'P|!Q|!R|T', 'P|!Q|R|!R', 'P|!Q|R|!R|T', 'P|!P|!Q|R|T', 'P|!P|!Q|R', 'P|!Q|R|!T', 'P|!Q|R', 'P|!Q|R|T']\n",
      "['P|Q', 'P|!R|T', '!P|R', '!Q|T', '!Q|R|!T', '!Q|!R|T', '!R', '!Q|!T', '!Q|!R', 'P|!R', 'P|!Q|!T', 'P|!Q|!R', 'P|!P|!Q', '!P|!Q|R', '!P|!Q|T', 'P|!P|T', '!P|!Q|R|T', 'P|!P|!Q|T', 'P|!Q|!R|T', 'P|!Q|R|!R', 'P|!Q|R|!R|T', 'P|!P|!Q|R|T', 'P|!P|!Q|R', 'P|!Q|R|!T', 'P|!Q|R', 'P|!Q|R|T', 'P|!Q|T']\n",
      "['P|Q', 'P|!R|T', '!P|R', '!Q|T', '!Q|R|!T', '!Q|!R|T', '!R', '!Q|!T', '!Q|!R', 'P|!R', 'P|!Q|!T', 'P|!Q|!R', 'P|!P|!Q', '!P|!Q|R', '!P|!Q|T', 'P|!P|T', '!P|!Q|R|T', 'P|!P|!Q|T', 'P|!Q|!R|T', 'P|!Q|R|!R', 'P|!Q|R|!R|T', 'P|!P|!Q|R|T', 'P|!P|!Q|R', 'P|!Q|R|!T', 'P|!Q|R', 'P|!Q|R|T', 'P|!Q|T', '!Q|R|T']\n",
      "['P|Q', 'P|!R|T', '!P|R', '!Q|T', '!Q|R|!T', '!Q|!R|T', '!R', '!Q|!T', '!Q|!R', 'P|!R', 'P|!Q|!T', 'P|!Q|!R', 'P|!P|!Q', '!P|!Q|R', '!P|!Q|T', 'P|!P|T', '!P|!Q|R|T', 'P|!P|!Q|T', 'P|!Q|!R|T', 'P|!Q|R|!R', 'P|!Q|R|!R|T', 'P|!P|!Q|R|T', 'P|!P|!Q|R', 'P|!Q|R|!T', 'P|!Q|R', 'P|!Q|R|T', 'P|!Q|T', '!Q|R|T', '!Q|R']\n",
      "['P|Q', 'P|!R|T', '!P|R', '!Q|T', '!Q|R|!T', '!Q|!R|T', '!R', '!Q|!T', '!Q|!R', 'P|!R', 'P|!Q|!T', 'P|!Q|!R', 'P|!P|!Q', '!P|!Q|R', '!P|!Q|T', 'P|!P|T', '!P|!Q|R|T', 'P|!P|!Q|T', 'P|!Q|!R|T', 'P|!Q|R|!R', 'P|!Q|R|!R|T', 'P|!P|!Q|R|T', 'P|!P|!Q|R', 'P|!Q|R|!T', 'P|!Q|R', 'P|!Q|R|T', 'P|!Q|T', '!Q|R|T', '!Q|R', 'P|!Q']\n",
      "['P|Q', 'P|!R|T', '!P|R', '!Q|T', '!Q|R|!T', '!Q|!R|T', '!R', '!Q|!T', '!Q|!R', 'P|!R', 'P|!Q|!T', 'P|!Q|!R', 'P|!P|!Q', '!P|!Q|R', '!P|!Q|T', 'P|!P|T', '!P|!Q|R|T', 'P|!P|!Q|T', 'P|!Q|!R|T', 'P|!Q|R|!R', 'P|!Q|R|!R|T', 'P|!P|!Q|R|T', 'P|!P|!Q|R', 'P|!Q|R|!T', 'P|!Q|R', 'P|!Q|R|T', 'P|!Q|T', '!Q|R|T', '!Q|R', 'P|!Q', 'P']\n",
      "['P|Q', 'P|!R|T', '!P|R', '!Q|T', '!Q|R|!T', '!Q|!R|T', '!R', '!Q|!T', '!Q|!R', 'P|!R', 'P|!Q|!T', 'P|!Q|!R', 'P|!P|!Q', '!P|!Q|R', '!P|!Q|T', 'P|!P|T', '!P|!Q|R|T', 'P|!P|!Q|T', 'P|!Q|!R|T', 'P|!Q|R|!R', 'P|!Q|R|!R|T', 'P|!P|!Q|R|T', 'P|!P|!Q|R', 'P|!Q|R|!T', 'P|!Q|R', 'P|!Q|R|T', 'P|!Q|T', '!Q|R|T', '!Q|R', 'P|!Q', 'P', 'R']\n",
      "['P|Q', 'P|!R|T', '!P|R', '!Q|T', '!Q|R|!T', '!Q|!R|T', '!R', '!Q|!T', '!Q|!R', 'P|!R', 'P|!Q|!T', 'P|!Q|!R', 'P|!P|!Q', '!P|!Q|R', '!P|!Q|T', 'P|!P|T', '!P|!Q|R|T', 'P|!P|!Q|T', 'P|!Q|!R|T', 'P|!Q|R|!R', 'P|!Q|R|!R|T', 'P|!P|!Q|R|T', 'P|!P|!Q|R', 'P|!Q|R|!T', 'P|!Q|R', 'P|!Q|R|T', 'P|!Q|T', '!Q|R|T', '!Q|R', 'P|!Q', 'P', 'R', '']\n"
     ]
    }
   ],
   "source": [
    "print_results(res)"
   ]
  },
  {
   "cell_type": "markdown",
   "id": "f5bc2627-f4cc-454a-84ed-00b235af29be",
   "metadata": {
    "tags": []
   },
   "source": [
    "### Greedy Search"
   ]
  },
  {
   "cell_type": "code",
   "execution_count": 21,
   "id": "4927cb71-31b0-4380-965a-09f777fe4a6d",
   "metadata": {
    "tags": []
   },
   "outputs": [
    {
     "name": "stdout",
     "output_type": "stream",
     "text": [
      "['P|Q', 'P|!R|T', '!P|R', '!Q|T', '!Q|R|!T', '!Q|!R|T', '!R']\n",
      "['P|Q', 'P|!R|T', '!P|R', '!Q|T', '!Q|R|!T', '!Q|!R|T', '!R', '!P']\n",
      "['P|Q', 'P|!R|T', '!P|R', '!Q|T', '!Q|R|!T', '!Q|!R|T', '!R', '!P', 'Q']\n",
      "['P|Q', 'P|!R|T', '!P|R', '!Q|T', '!Q|R|!T', '!Q|!R|T', '!R', '!P', 'Q', 'T']\n",
      "['P|Q', 'P|!R|T', '!P|R', '!Q|T', '!Q|R|!T', '!Q|!R|T', '!R', 'Q|R']\n",
      "['P|Q', 'P|!R|T', '!P|R', '!Q|T', '!Q|R|!T', '!Q|!R|T', '!R', 'Q|R', 'Q']\n",
      "['P|Q', 'P|!R|T', '!P|R', '!Q|T', '!Q|R|!T', '!Q|!R|T', '!R', 'P|T']\n",
      "['P|Q', 'P|!R|T', '!P|R', '!Q|T', '!Q|R|!T', '!Q|!R|T', '!R', '!Q|R']\n",
      "['P|Q', 'P|!R|T', '!P|R', '!Q|T', '!Q|R|!T', '!Q|!R|T', '!R', '!Q|R', '!Q']\n",
      "['P|Q', 'P|!R|T', '!P|R', '!Q|T', '!Q|R|!T', '!Q|!R|T', '!R', '!Q|R', '!Q', 'P']\n",
      "['P|Q', 'P|!R|T', '!P|R', '!Q|T', '!Q|R|!T', '!Q|!R|T', '!R', '!Q|R', '!Q', 'P', 'R']\n",
      "!R, R resolved to Empty Clause\n",
      "1\n"
     ]
    }
   ],
   "source": [
    "res = solve(n, m, formulas, query, method='greedy')"
   ]
  },
  {
   "cell_type": "code",
   "execution_count": 22,
   "id": "a988ba88-3725-4689-ac52-85b7818ae3ae",
   "metadata": {
    "tags": []
   },
   "outputs": [
    {
     "name": "stdout",
     "output_type": "stream",
     "text": [
      "total number of nodes explored: 11\n",
      "execution time: 0.000961 seconds\n",
      "\n",
      "number of nodes in the path: 6\n",
      "path:\n",
      "['P|Q', 'P|!R|T', '!P|R', '!Q|T', '!Q|R|!T', '!Q|!R|T', '!R']\n",
      "['P|Q', 'P|!R|T', '!P|R', '!Q|T', '!Q|R|!T', '!Q|!R|T', '!R', '!Q|R']\n",
      "['P|Q', 'P|!R|T', '!P|R', '!Q|T', '!Q|R|!T', '!Q|!R|T', '!R', '!Q|R', '!Q']\n",
      "['P|Q', 'P|!R|T', '!P|R', '!Q|T', '!Q|R|!T', '!Q|!R|T', '!R', '!Q|R', '!Q', 'P']\n",
      "['P|Q', 'P|!R|T', '!P|R', '!Q|T', '!Q|R|!T', '!Q|!R|T', '!R', '!Q|R', '!Q', 'P', 'R']\n",
      "['P|Q', 'P|!R|T', '!P|R', '!Q|T', '!Q|R|!T', '!Q|!R|T', '!R', '!Q|R', '!Q', 'P', 'R', '']\n"
     ]
    }
   ],
   "source": [
    "print_results(res)"
   ]
  },
  {
   "cell_type": "markdown",
   "id": "5f226cd0-bf9b-4abb-a21c-c1fe805370f2",
   "metadata": {},
   "source": [
    "---\n",
    "# n = 5\n",
    "---"
   ]
  },
  {
   "cell_type": "code",
   "execution_count": 23,
   "id": "6f7a8239-2578-4e07-b168-d055b581b01f",
   "metadata": {
    "tags": []
   },
   "outputs": [],
   "source": [
    "n, m = 5, 0\n",
    "formulas = [\n",
    "    'P>R',\n",
    "    'Q>T',\n",
    "    '(Q&(R>T))|P',\n",
    "    'R=S',\n",
    "    'Q>R',\n",
    "]\n",
    "query='F'"
   ]
  },
  {
   "cell_type": "markdown",
   "id": "dec01d63-9388-4ea7-9e60-b95177e8a6bd",
   "metadata": {
    "tags": []
   },
   "source": [
    "### Uninformed Search (BFS)"
   ]
  },
  {
   "cell_type": "code",
   "execution_count": 24,
   "id": "808e6e50-ad55-4180-9c09-d5706e9b9fc3",
   "metadata": {
    "tags": []
   },
   "outputs": [
    {
     "name": "stdout",
     "output_type": "stream",
     "text": [
      "0\n"
     ]
    }
   ],
   "source": [
    "res = solve(n, m, formulas, query, method='uninformed', submethod='BFS')"
   ]
  },
  {
   "cell_type": "code",
   "execution_count": 25,
   "id": "82295a94-5617-411a-9c31-1bc6188e386b",
   "metadata": {
    "tags": []
   },
   "outputs": [
    {
     "name": "stdout",
     "output_type": "stream",
     "text": [
      "total number of nodes explored: 86\n",
      "execution time: 0.015138 seconds\n",
      "query is not entailed by the knowledge base\n"
     ]
    }
   ],
   "source": [
    "print_results(res)"
   ]
  },
  {
   "cell_type": "markdown",
   "id": "87bc6cb5-c287-42ae-bb58-caf38e05dc6c",
   "metadata": {
    "tags": []
   },
   "source": [
    "### Uninformed Search (DFS)"
   ]
  },
  {
   "cell_type": "code",
   "execution_count": 26,
   "id": "c024c64a-ba7c-4b19-8d2c-82144054d8f7",
   "metadata": {
    "tags": []
   },
   "outputs": [
    {
     "name": "stdout",
     "output_type": "stream",
     "text": [
      "0\n"
     ]
    }
   ],
   "source": [
    "res = solve(n, m, formulas, query, method='uninformed', submethod='DFS')"
   ]
  },
  {
   "cell_type": "code",
   "execution_count": 27,
   "id": "6ecfd79b-8d03-4bba-acf6-21a281cf599e",
   "metadata": {
    "scrolled": true,
    "tags": []
   },
   "outputs": [
    {
     "name": "stdout",
     "output_type": "stream",
     "text": [
      "total number of nodes explored: 106\n",
      "execution time: 0.036036 seconds\n",
      "query is not entailed by the knowledge base\n"
     ]
    }
   ],
   "source": [
    "print_results(res)"
   ]
  },
  {
   "cell_type": "markdown",
   "id": "07655edc-f0b8-4db3-986c-2587447efc50",
   "metadata": {
    "tags": []
   },
   "source": [
    "### Greedy Search"
   ]
  },
  {
   "cell_type": "code",
   "execution_count": 28,
   "id": "2349790a-6bba-4541-95c8-fa367fddce01",
   "metadata": {
    "tags": []
   },
   "outputs": [
    {
     "name": "stdout",
     "output_type": "stream",
     "text": [
      "0\n"
     ]
    }
   ],
   "source": [
    "res = solve(n, m, formulas, query, method='greedy')"
   ]
  },
  {
   "cell_type": "code",
   "execution_count": 29,
   "id": "61012116-f9ed-4127-b533-ffe0bb666de5",
   "metadata": {
    "tags": []
   },
   "outputs": [
    {
     "name": "stdout",
     "output_type": "stream",
     "text": [
      "total number of nodes explored: 86\n",
      "execution time: 0.015379 seconds\n",
      "query is not entailed by the knowledge base\n"
     ]
    }
   ],
   "source": [
    "print_results(res)"
   ]
  },
  {
   "cell_type": "markdown",
   "id": "99ec5222-478c-4887-9ade-813b45b7fa57",
   "metadata": {},
   "source": [
    "---\n",
    "# n = 6\n",
    "---"
   ]
  },
  {
   "cell_type": "code",
   "execution_count": 30,
   "id": "a5575dcb-ef45-4b46-b1a1-342df6b154f3",
   "metadata": {
    "tags": []
   },
   "outputs": [],
   "source": [
    "n, m = 6, 1\n",
    "formulas = [\n",
    "    'P>R',\n",
    "    'Q>T',\n",
    "    '(Q&(R>T))|P',\n",
    "    'R>S',\n",
    "    'Q=(R&T)',\n",
    "    'T=S',\n",
    "]\n",
    "query='T'"
   ]
  },
  {
   "cell_type": "markdown",
   "id": "18c22fe6-c8ac-45c2-b29f-0359fa696bd1",
   "metadata": {
    "tags": []
   },
   "source": [
    "### Uninformed Search (BFS)"
   ]
  },
  {
   "cell_type": "code",
   "execution_count": 31,
   "id": "91a3e7e5-5cd6-4c42-9e01-aeee6830f88c",
   "metadata": {
    "scrolled": true,
    "tags": []
   },
   "outputs": [
    {
     "name": "stdout",
     "output_type": "stream",
     "text": [
      "['!P|R', '!Q|T', 'P|Q', 'P|!R|T', '!R|S', '!Q|R', '!Q|T', 'Q|!R|!T', 'S|!T', '!S|T', '!T']\n",
      "['!P|R', '!Q|T', 'P|Q', 'P|!R|T', '!R|S', '!Q|R', '!Q|T', 'Q|!R|!T', 'S|!T', '!S|T', '!T', 'Q|R']\n",
      "['!P|R', '!Q|T', 'P|Q', 'P|!R|T', '!R|S', '!Q|R', '!Q|T', 'Q|!R|!T', 'S|!T', '!S|T', '!T', 'P|!P|T']\n",
      "['!P|R', '!Q|T', 'P|Q', 'P|!R|T', '!R|S', '!Q|R', '!Q|T', 'Q|!R|!T', 'S|!T', '!S|T', '!T', '!P|S']\n",
      "['!P|R', '!Q|T', 'P|Q', 'P|!R|T', '!R|S', '!Q|R', '!Q|T', 'Q|!R|!T', 'S|!T', '!S|T', '!T', '!P|Q|!T']\n",
      "['!P|R', '!Q|T', 'P|Q', 'P|!R|T', '!R|S', '!Q|R', '!Q|T', 'Q|!R|!T', 'S|!T', '!S|T', '!T', 'P|T']\n",
      "['!P|R', '!Q|T', 'P|Q', 'P|!R|T', '!R|S', '!Q|R', '!Q|T', 'Q|!R|!T', 'S|!T', '!S|T', '!T', '!Q|Q|!R']\n",
      "['!P|R', '!Q|T', 'P|Q', 'P|!R|T', '!R|S', '!Q|R', '!Q|T', 'Q|!R|!T', 'S|!T', '!S|T', '!T', '!Q|S']\n",
      "['!P|R', '!Q|T', 'P|Q', 'P|!R|T', '!R|S', '!Q|R', '!Q|T', 'Q|!R|!T', 'S|!T', '!S|T', '!T', '!Q']\n",
      "['!P|R', '!Q|T', 'P|Q', 'P|!R|T', '!R|S', '!Q|R', '!Q|T', 'Q|!R|!T', 'S|!T', '!S|T', '!T', 'P|R']\n",
      "['!P|R', '!Q|T', 'P|Q', 'P|!R|T', '!R|S', '!Q|R', '!Q|T', 'Q|!R|!T', 'S|!T', '!S|T', '!T', 'P|T']\n",
      "['!P|R', '!Q|T', 'P|Q', 'P|!R|T', '!R|S', '!Q|R', '!Q|T', 'Q|!R|!T', 'S|!T', '!S|T', '!T', 'P|!Q|T']\n",
      "['!P|R', '!Q|T', 'P|Q', 'P|!R|T', '!R|S', '!Q|R', '!Q|T', 'Q|!R|!T', 'S|!T', '!S|T', '!T', 'P|Q|!R']\n",
      "['!P|R', '!Q|T', 'P|Q', 'P|!R|T', '!R|S', '!Q|R', '!Q|T', 'Q|!R|!T', 'S|!T', '!S|T', '!T', 'P|!R|S']\n",
      "['!P|R', '!Q|T', 'P|Q', 'P|!R|T', '!R|S', '!Q|R', '!Q|T', 'Q|!R|!T', 'S|!T', '!S|T', '!T', 'P|!R']\n",
      "['!P|R', '!Q|T', 'P|Q', 'P|!R|T', '!R|S', '!Q|R', '!Q|T', 'Q|!R|!T', 'S|!T', '!S|T', '!T', '!Q|S']\n",
      "['!P|R', '!Q|T', 'P|Q', 'P|!R|T', '!R|S', '!Q|R', '!Q|T', 'Q|!R|!T', 'S|!T', '!S|T', '!T', '!R|T']\n",
      "['!P|R', '!Q|T', 'P|Q', 'P|!R|T', '!R|S', '!Q|R', '!Q|T', 'Q|!R|!T', 'S|!T', '!S|T', '!T', '!Q|Q|!T']\n",
      "['!P|R', '!Q|T', 'P|Q', 'P|!R|T', '!R|S', '!Q|R', '!Q|T', 'Q|!R|!T', 'S|!T', '!S|T', '!T', 'Q|!R|!S']\n",
      "['!P|R', '!Q|T', 'P|Q', 'P|!R|T', '!R|S', '!Q|R', '!Q|T', 'Q|!R|!T', 'S|!T', '!S|T', '!T', 'S|!S']\n",
      "['!P|R', '!Q|T', 'P|Q', 'P|!R|T', '!R|S', '!Q|R', '!Q|T', 'Q|!R|!T', 'S|!T', '!S|T', '!T', '!S']\n",
      "['!P|R', '!Q|T', 'P|Q', 'P|!R|T', '!R|S', '!Q|R', '!Q|T', 'Q|!R|!T', 'S|!T', '!S|T', '!T', 'Q|R', 'R|T']\n",
      "['!P|R', '!Q|T', 'P|Q', 'P|!R|T', '!R|S', '!Q|R', '!Q|T', 'Q|!R|!T', 'S|!T', '!S|T', '!T', 'Q|R', 'P|Q|T']\n",
      "['!P|R', '!Q|T', 'P|Q', 'P|!R|T', '!R|S', '!Q|R', '!Q|T', 'Q|!R|!T', 'S|!T', '!S|T', '!T', 'Q|R', 'Q|S']\n",
      "['!P|R', '!Q|T', 'P|Q', 'P|!R|T', '!R|S', '!Q|R', '!Q|T', 'Q|!R|!T', 'S|!T', '!S|T', '!T', 'Q|R', 'R']\n",
      "['!P|R', '!Q|T', 'P|Q', 'P|!R|T', '!R|S', '!Q|R', '!Q|T', 'Q|!R|!T', 'S|!T', '!S|T', '!T', 'Q|R', 'Q|!T']\n",
      "['!P|R', '!Q|T', 'P|Q', 'P|!R|T', '!R|S', '!Q|R', '!Q|T', 'Q|!R|!T', 'S|!T', '!S|T', '!T', 'P|!P|T', '!P|R|T']\n",
      "['!P|R', '!Q|T', 'P|Q', 'P|!R|T', '!R|S', '!Q|R', '!Q|T', 'Q|!R|!T', 'S|!T', '!S|T', '!T', 'P|!P|T', 'P|Q|T']\n",
      "['!P|R', '!Q|T', 'P|Q', 'P|!R|T', '!R|S', '!Q|R', '!Q|T', 'Q|!R|!T', 'S|!T', '!S|T', '!T', 'P|!P|T', 'P|!P|Q|!R']\n",
      "['!P|R', '!Q|T', 'P|Q', 'P|!R|T', '!R|S', '!Q|R', '!Q|T', 'Q|!R|!T', 'S|!T', '!S|T', '!T', 'P|!P|T', 'P|!P|S']\n",
      "['!P|R', '!Q|T', 'P|Q', 'P|!R|T', '!R|S', '!Q|R', '!Q|T', 'Q|!R|!T', 'S|!T', '!S|T', '!T', 'P|!P|T', 'P|!P']\n",
      "['!P|R', '!Q|T', 'P|Q', 'P|!R|T', '!R|S', '!Q|R', '!Q|T', 'Q|!R|!T', 'S|!T', '!S|T', '!T', '!P|S', 'Q|S']\n",
      "['!P|R', '!Q|T', 'P|Q', 'P|!R|T', '!R|S', '!Q|R', '!Q|T', 'Q|!R|!T', 'S|!T', '!S|T', '!T', '!P|S', '!R|S|T']\n",
      "['!P|R', '!Q|T', 'P|Q', 'P|!R|T', '!R|S', '!Q|R', '!Q|T', 'Q|!R|!T', 'S|!T', '!S|T', '!T', '!P|S', '!P|T']\n",
      "['!P|R', '!Q|T', 'P|Q', 'P|!R|T', '!R|S', '!Q|R', '!Q|T', 'Q|!R|!T', 'S|!T', '!S|T', '!T', '!P|Q|!T', '!P|!Q|Q']\n",
      "['!P|R', '!Q|T', 'P|Q', 'P|!R|T', '!R|S', '!Q|R', '!Q|T', 'Q|!R|!T', 'S|!T', '!S|T', '!T', '!P|Q|!T', 'Q|!T']\n",
      "['!P|R', '!Q|T', 'P|Q', 'P|!R|T', '!R|S', '!Q|R', '!Q|T', 'Q|!R|!T', 'S|!T', '!S|T', '!T', '!P|Q|!T', 'P|!P|Q|!R']\n",
      "['!P|R', '!Q|T', 'P|Q', 'P|!R|T', '!R|S', '!Q|R', '!Q|T', 'Q|!R|!T', 'S|!T', '!S|T', '!T', '!P|Q|!T', '!P|R|!T']\n",
      "['!P|R', '!Q|T', 'P|Q', 'P|!R|T', '!R|S', '!Q|R', '!Q|T', 'Q|!R|!T', 'S|!T', '!S|T', '!T', '!P|Q|!T', '!P|Q|!S']\n",
      "['!P|R', '!Q|T', 'P|Q', 'P|!R|T', '!R|S', '!Q|R', '!Q|T', 'Q|!R|!T', 'S|!T', '!S|T', '!T', 'P|T', 'R|T']\n",
      "['!P|R', '!Q|T', 'P|Q', 'P|!R|T', '!R|S', '!Q|R', '!Q|T', 'Q|!R|!T', 'S|!T', '!S|T', '!T', 'P|T', 'P|Q|!R']\n",
      "['!P|R', '!Q|T', 'P|Q', 'P|!R|T', '!R|S', '!Q|R', '!Q|T', 'Q|!R|!T', 'S|!T', '!S|T', '!T', 'P|T', 'P|S']\n",
      "['!P|R', '!Q|T', 'P|Q', 'P|!R|T', '!R|S', '!Q|R', '!Q|T', 'Q|!R|!T', 'S|!T', '!S|T', '!T', 'P|T', 'P']\n",
      "['!P|R', '!Q|T', 'P|Q', 'P|!R|T', '!R|S', '!Q|R', '!Q|T', 'Q|!R|!T', 'S|!T', '!S|T', '!T', '!Q|Q|!R', '!P|!Q|Q']\n",
      "['!P|R', '!Q|T', 'P|Q', 'P|!R|T', '!R|S', '!Q|R', '!Q|T', 'Q|!R|!T', 'S|!T', '!S|T', '!T', '!Q|Q|!R', '!Q|!R|T']\n",
      "['!P|R', '!Q|T', 'P|Q', 'P|!R|T', '!R|S', '!Q|R', '!Q|T', 'Q|!R|!T', 'S|!T', '!S|T', '!T', '!Q|Q|!R', 'P|Q|!R']\n",
      "['!P|R', '!Q|T', 'P|Q', 'P|!R|T', '!R|S', '!Q|R', '!Q|T', 'Q|!R|!T', 'S|!T', '!S|T', '!T', '!Q|Q|!R', '!Q|Q']\n",
      "['!P|R', '!Q|T', 'P|Q', 'P|!R|T', '!R|S', '!Q|R', '!Q|T', 'Q|!R|!T', 'S|!T', '!S|T', '!T', '!Q|S', 'P|S']\n",
      "['!P|R', '!Q|T', 'P|Q', 'P|!R|T', '!R|S', '!Q|R', '!Q|T', 'Q|!R|!T', 'S|!T', '!S|T', '!T', '!Q|S', '!R|S|!T']\n",
      "['!P|R', '!Q|T', 'P|Q', 'P|!R|T', '!R|S', '!Q|R', '!Q|T', 'Q|!R|!T', 'S|!T', '!S|T', '!T', '!Q', 'P']\n",
      "['!P|R', '!Q|T', 'P|Q', 'P|!R|T', '!R|S', '!Q|R', '!Q|T', 'Q|!R|!T', 'S|!T', '!S|T', '!T', '!Q', '!R|!T']\n",
      "['!P|R', '!Q|T', 'P|Q', 'P|!R|T', '!R|S', '!Q|R', '!Q|T', 'Q|!R|!T', 'S|!T', '!S|T', '!T', 'P|R', 'R']\n",
      "['!P|R', '!Q|T', 'P|Q', 'P|!R|T', '!R|S', '!Q|R', '!Q|T', 'Q|!R|!T', 'S|!T', '!S|T', '!T', 'P|R', 'P|T']\n",
      "['!P|R', '!Q|T', 'P|Q', 'P|!R|T', '!R|S', '!Q|R', '!Q|T', 'Q|!R|!T', 'S|!T', '!S|T', '!T', 'P|R', 'P|S']\n",
      "['!P|R', '!Q|T', 'P|Q', 'P|!R|T', '!R|S', '!Q|R', '!Q|T', 'Q|!R|!T', 'S|!T', '!S|T', '!T', 'P|R', 'P|Q|!T']\n",
      "['!P|R', '!Q|T', 'P|Q', 'P|!R|T', '!R|S', '!Q|R', '!Q|T', 'Q|!R|!T', 'S|!T', '!S|T', '!T', 'P|!Q|T', '!Q|R|T']\n",
      "['!P|R', '!Q|T', 'P|Q', 'P|!R|T', '!R|S', '!Q|R', '!Q|T', 'Q|!R|!T', 'S|!T', '!S|T', '!T', 'P|!Q|T', 'P|T']\n",
      "['!P|R', '!Q|T', 'P|Q', 'P|!R|T', '!R|S', '!Q|R', '!Q|T', 'Q|!R|!T', 'S|!T', '!S|T', '!T', 'P|!Q|T', 'P|!Q|Q|!R']\n",
      "['!P|R', '!Q|T', 'P|Q', 'P|!R|T', '!R|S', '!Q|R', '!Q|T', 'Q|!R|!T', 'S|!T', '!S|T', '!T', 'P|!Q|T', 'P|!Q|S']\n",
      "['!P|R', '!Q|T', 'P|Q', 'P|!R|T', '!R|S', '!Q|R', '!Q|T', 'Q|!R|!T', 'S|!T', '!S|T', '!T', 'P|!Q|T', 'P|!Q']\n",
      "['!P|R', '!Q|T', 'P|Q', 'P|!R|T', '!R|S', '!Q|R', '!Q|T', 'Q|!R|!T', 'S|!T', '!S|T', '!T', 'P|Q|!R', 'P|!P|Q']\n",
      "['!P|R', '!Q|T', 'P|Q', 'P|!R|T', '!R|S', '!Q|R', '!Q|T', 'Q|!R|!T', 'S|!T', '!S|T', '!T', 'P|Q|!R', 'P|!Q|Q']\n",
      "['!P|R', '!Q|T', 'P|Q', 'P|!R|T', '!R|S', '!Q|R', '!Q|T', 'Q|!R|!T', 'S|!T', '!S|T', '!T', 'P|!R|S', 'P|!P|S']\n",
      "['!P|R', '!Q|T', 'P|Q', 'P|!R|T', '!R|S', '!Q|R', '!Q|T', 'Q|!R|!T', 'S|!T', '!S|T', '!T', 'P|!R|S', 'P|!Q|S']\n",
      "['!P|R', '!Q|T', 'P|Q', 'P|!R|T', '!R|S', '!Q|R', '!Q|T', 'Q|!R|!T', 'S|!T', '!S|T', '!T', 'P|!R', 'P|!P']\n",
      "['!P|R', '!Q|T', 'P|Q', 'P|!R|T', '!R|S', '!Q|R', '!Q|T', 'Q|!R|!T', 'S|!T', '!S|T', '!T', 'P|!R', 'P|!Q']\n",
      "['!P|R', '!Q|T', 'P|Q', 'P|!R|T', '!R|S', '!Q|R', '!Q|T', 'Q|!R|!T', 'S|!T', '!S|T', '!T', '!R|T', '!P|T']\n",
      "['!P|R', '!Q|T', 'P|Q', 'P|!R|T', '!R|S', '!Q|R', '!Q|T', 'Q|!R|!T', 'S|!T', '!S|T', '!T', '!R|T', 'Q|!R']\n",
      "['!P|R', '!Q|T', 'P|Q', 'P|!R|T', '!R|S', '!Q|R', '!Q|T', 'Q|!R|!T', 'S|!T', '!S|T', '!T', '!R|T', '!R']\n",
      "['!P|R', '!Q|T', 'P|Q', 'P|!R|T', '!R|S', '!Q|R', '!Q|T', 'Q|!R|!T', 'S|!T', '!S|T', '!T', '!Q|Q|!T', '!Q|Q']\n",
      "['!P|R', '!Q|T', 'P|Q', 'P|!R|T', '!R|S', '!Q|R', '!Q|T', 'Q|!R|!T', 'S|!T', '!S|T', '!T', '!Q|Q|!T', 'P|Q|!T']\n",
      "['!P|R', '!Q|T', 'P|Q', 'P|!R|T', '!R|S', '!Q|R', '!Q|T', 'Q|!R|!T', 'S|!T', '!S|T', '!T', '!Q|Q|!T', 'P|!Q|Q|!R']\n",
      "['!P|R', '!Q|T', 'P|Q', 'P|!R|T', '!R|S', '!Q|R', '!Q|T', 'Q|!R|!T', 'S|!T', '!S|T', '!T', '!Q|Q|!T', '!Q|R|!T']\n",
      "['!P|R', '!Q|T', 'P|Q', 'P|!R|T', '!R|S', '!Q|R', '!Q|T', 'Q|!R|!T', 'S|!T', '!S|T', '!T', '!Q|Q|!T', '!Q|Q|!S']\n",
      "['!P|R', '!Q|T', 'P|Q', 'P|!R|T', '!R|S', '!Q|R', '!Q|T', 'Q|!R|!T', 'S|!T', '!S|T', '!T', 'Q|!R|!S', '!P|Q|!S']\n",
      "['!P|R', '!Q|T', 'P|Q', 'P|!R|T', '!R|S', '!Q|R', '!Q|T', 'Q|!R|!T', 'S|!T', '!S|T', '!T', 'Q|!R|!S', '!R|!S|T']\n",
      "['!P|R', '!Q|T', 'P|Q', 'P|!R|T', '!R|S', '!Q|R', '!Q|T', 'Q|!R|!T', 'S|!T', '!S|T', '!T', 'Q|!R|!S', 'Q|!R']\n",
      "['!P|R', '!Q|T', 'P|Q', 'P|!R|T', '!R|S', '!Q|R', '!Q|T', 'Q|!R|!T', 'S|!T', '!S|T', '!T', 'Q|!R|!S', '!Q|Q|!S']\n",
      "['!P|R', '!Q|T', 'P|Q', 'P|!R|T', '!R|S', '!Q|R', '!Q|T', 'Q|!R|!T', 'S|!T', '!S|T', '!T', '!S', '!R']\n",
      "['!P|R', '!Q|T', 'P|Q', 'P|!R|T', '!R|S', '!Q|R', '!Q|T', 'Q|!R|!T', 'S|!T', '!S|T', '!T', 'Q|R', 'R|T', 'P|T']\n",
      "['!P|R', '!Q|T', 'P|Q', 'P|!R|T', '!R|S', '!Q|R', '!Q|T', 'Q|!R|!T', 'S|!T', '!S|T', '!T', 'Q|R', 'R|T', 'S|T']\n",
      "['!P|R', '!Q|T', 'P|Q', 'P|!R|T', '!R|S', '!Q|R', '!Q|T', 'Q|!R|!T', 'S|!T', '!S|T', '!T', 'Q|R', 'R|T', 'Q|R|!R']\n",
      "['!P|R', '!Q|T', 'P|Q', 'P|!R|T', '!R|S', '!Q|R', '!Q|T', 'Q|!R|!T', 'S|!T', '!S|T', '!T', 'Q|R', 'R|T', 'R|S']\n",
      "['!P|R', '!Q|T', 'P|Q', 'P|!R|T', '!R|S', '!Q|R', '!Q|T', 'Q|!R|!T', 'S|!T', '!S|T', '!T', 'Q|R', 'R|T', 'R']\n",
      "['!P|R', '!Q|T', 'P|Q', 'P|!R|T', '!R|S', '!Q|R', '!Q|T', 'Q|!R|!T', 'S|!T', '!S|T', '!T', 'Q|R', 'P|Q|T', 'Q|R|T']\n",
      "['!P|R', '!Q|T', 'P|Q', 'P|!R|T', '!R|S', '!Q|R', '!Q|T', 'Q|!R|!T', 'S|!T', '!S|T', '!T', 'Q|R', 'P|Q|T', 'P|T']\n",
      "['!P|R', '!Q|T', 'P|Q', 'P|!R|T', '!R|S', '!Q|R', '!Q|T', 'Q|!R|!T', 'S|!T', '!S|T', '!T', 'Q|R', 'P|Q|T', 'P|R|T']\n",
      "['!P|R', '!Q|T', 'P|Q', 'P|!R|T', '!R|S', '!Q|R', '!Q|T', 'Q|!R|!T', 'S|!T', '!S|T', '!T', 'Q|R', 'P|Q|T', 'P|Q|!R']\n",
      "['!P|R', '!Q|T', 'P|Q', 'P|!R|T', '!R|S', '!Q|R', '!Q|T', 'Q|!R|!T', 'S|!T', '!S|T', '!T', 'Q|R', 'P|Q|T', 'P|Q|S']\n",
      "['!P|R', '!Q|T', 'P|Q', 'P|!R|T', '!R|S', '!Q|R', '!Q|T', 'Q|!R|!T', 'S|!T', '!S|T', '!T', 'Q|R', 'Q|S', 'S|T']\n",
      "['!P|R', '!Q|T', 'P|Q', 'P|!R|T', '!R|S', '!Q|R', '!Q|T', 'Q|!R|!T', 'S|!T', '!S|T', '!T', 'Q|R', 'Q|S', 'R|S']\n",
      "['!P|R', '!Q|T', 'P|Q', 'P|!R|T', '!R|S', '!Q|R', '!Q|T', 'Q|!R|!T', 'S|!T', '!S|T', '!T', 'Q|R', 'Q|S', 'Q|T']\n",
      "['!P|R', '!Q|T', 'P|Q', 'P|!R|T', '!R|S', '!Q|R', '!Q|T', 'Q|!R|!T', 'S|!T', '!S|T', '!T', 'Q|R', 'R', 'P|T']\n",
      "['!P|R', '!Q|T', 'P|Q', 'P|!R|T', '!R|S', '!Q|R', '!Q|T', 'Q|!R|!T', 'S|!T', '!S|T', '!T', 'Q|R', 'R', 'S']\n",
      "['!P|R', '!Q|T', 'P|Q', 'P|!R|T', '!R|S', '!Q|R', '!Q|T', 'Q|!R|!T', 'S|!T', '!S|T', '!T', 'Q|R', 'R', 'Q|!T']\n",
      "['!P|R', '!Q|T', 'P|Q', 'P|!R|T', '!R|S', '!Q|R', '!Q|T', 'Q|!R|!T', 'S|!T', '!S|T', '!T', 'Q|R', 'Q|!T', '!Q|Q']\n",
      "['!P|R', '!Q|T', 'P|Q', 'P|!R|T', '!R|S', '!Q|R', '!Q|T', 'Q|!R|!T', 'S|!T', '!S|T', '!T', 'Q|R', 'Q|!T', 'P|Q|!R']\n",
      "['!P|R', '!Q|T', 'P|Q', 'P|!R|T', '!R|S', '!Q|R', '!Q|T', 'Q|!R|!T', 'S|!T', '!S|T', '!T', 'Q|R', 'Q|!T', 'R|!T']\n",
      "['!P|R', '!Q|T', 'P|Q', 'P|!R|T', '!R|S', '!Q|R', '!Q|T', 'Q|!R|!T', 'S|!T', '!S|T', '!T', 'Q|R', 'Q|!T', 'Q|!S']\n",
      "['!P|R', '!Q|T', 'P|Q', 'P|!R|T', '!R|S', '!Q|R', '!Q|T', 'Q|!R|!T', 'S|!T', '!S|T', '!T', 'P|!P|T', '!P|R|T', 'Q|R|T']\n",
      "['!P|R', '!Q|T', 'P|Q', 'P|!R|T', '!R|S', '!Q|R', '!Q|T', 'Q|!R|!T', 'S|!T', '!S|T', '!T', 'P|!P|T', '!P|R|T', '!P|S|T']\n",
      "['!P|R', '!Q|T', 'P|Q', 'P|!R|T', '!R|S', '!Q|R', '!Q|T', 'Q|!R|!T', 'S|!T', '!S|T', '!T', 'P|!P|T', '!P|R|T', '!P|Q|R|!R']\n",
      "['!P|R', '!Q|T', 'P|Q', 'P|!R|T', '!R|S', '!Q|R', '!Q|T', 'Q|!R|!T', 'S|!T', '!S|T', '!T', 'P|!P|T', '!P|R|T', '!P|R|S']\n",
      "['!P|R', '!Q|T', 'P|Q', 'P|!R|T', '!R|S', '!Q|R', '!Q|T', 'Q|!R|!T', 'S|!T', '!S|T', '!T', 'P|!P|T', 'P|!P|Q|!R', 'P|!P|Q']\n",
      "['!P|R', '!Q|T', 'P|Q', 'P|!R|T', '!R|S', '!Q|R', '!Q|T', 'Q|!R|!T', 'S|!T', '!S|T', '!T', 'P|!P|T', 'P|!P|Q|!R', 'P|!P|!R|T']\n",
      "['!P|R', '!Q|T', 'P|Q', 'P|!R|T', '!R|S', '!Q|R', '!Q|T', 'Q|!R|!T', 'S|!T', '!S|T', '!T', 'P|!P|T', 'P|!P|Q|!R', 'P|Q|!R']\n",
      "['!P|R', '!Q|T', 'P|Q', 'P|!R|T', '!R|S', '!Q|R', '!Q|T', 'Q|!R|!T', 'S|!T', '!S|T', '!T', 'P|!P|T', 'P|!P|Q|!R', 'P|Q|!R|T']\n",
      "['!P|R', '!Q|T', 'P|Q', 'P|!R|T', '!R|S', '!Q|R', '!Q|T', 'Q|!R|!T', 'S|!T', '!S|T', '!T', 'P|!P|T', 'P|!P|Q|!R', 'P|!P|!Q|Q']\n",
      "['!P|R', '!Q|T', 'P|Q', 'P|!R|T', '!R|S', '!Q|R', '!Q|T', 'Q|!R|!T', 'S|!T', '!S|T', '!T', 'P|!P|T', 'P|!P|Q|!R', 'P|!P|Q|!R|T']\n",
      "['!P|R', '!Q|T', 'P|Q', 'P|!R|T', '!R|S', '!Q|R', '!Q|T', 'Q|!R|!T', 'S|!T', '!S|T', '!T', 'P|!P|T', 'P|!P|S', '!P|R|S']\n",
      "['!P|R', '!Q|T', 'P|Q', 'P|!R|T', '!R|S', '!Q|R', '!Q|T', 'Q|!R|!T', 'S|!T', '!S|T', '!T', 'P|!P|T', 'P|!P|S', 'P|Q|S']\n",
      "['!P|R', '!Q|T', 'P|Q', 'P|!R|T', '!R|S', '!Q|R', '!Q|T', 'Q|!R|!T', 'S|!T', '!S|T', '!T', 'P|!P|T', 'P|!P|S', 'P|!R|S|T']\n",
      "['!P|R', '!Q|T', 'P|Q', 'P|!R|T', '!R|S', '!Q|R', '!Q|T', 'Q|!R|!T', 'S|!T', '!S|T', '!T', 'P|!P|T', 'P|!P|S', 'P|!P|S|T']\n",
      "['!P|R', '!Q|T', 'P|Q', 'P|!R|T', '!R|S', '!Q|R', '!Q|T', 'Q|!R|!T', 'S|!T', '!S|T', '!T', '!P|S', '!R|S|T', '!P|S|T']\n",
      "['!P|R', '!Q|T', 'P|Q', 'P|!R|T', '!R|S', '!Q|R', '!Q|T', 'Q|!R|!T', 'S|!T', '!S|T', '!T', '!P|S', '!R|S|T', '!Q|S|T']\n",
      "['!P|R', '!Q|T', 'P|Q', 'P|!R|T', '!R|S', '!Q|R', '!Q|T', 'Q|!R|!T', 'S|!T', '!S|T', '!T', '!P|S', '!R|S|T', 'Q|!R|S']\n",
      "['!P|R', '!Q|T', 'P|Q', 'P|!R|T', '!R|S', '!Q|R', '!Q|T', 'Q|!R|!T', 'S|!T', '!S|T', '!T', '!P|S', '!R|S|T', '!R|T']\n",
      "['!P|R', '!Q|T', 'P|Q', 'P|!R|T', '!R|S', '!Q|R', '!Q|T', 'Q|!R|!T', 'S|!T', '!S|T', '!T', '!P|S', '!P|T', 'Q|T']\n",
      "['!P|R', '!Q|T', 'P|Q', 'P|!R|T', '!R|S', '!Q|R', '!Q|T', 'Q|!R|!T', 'S|!T', '!S|T', '!T', '!P|S', '!P|T', '!R|T']\n",
      "['!P|R', '!Q|T', 'P|Q', 'P|!R|T', '!R|S', '!Q|R', '!Q|T', 'Q|!R|!T', 'S|!T', '!S|T', '!T', '!P|S', '!P|T', '!P|Q|!R']\n",
      "['!P|R', '!Q|T', 'P|Q', 'P|!R|T', '!R|S', '!Q|R', '!Q|T', 'Q|!R|!T', 'S|!T', '!S|T', '!T', '!P|S', '!P|T', '!P']\n",
      "['!P|R', '!Q|T', 'P|Q', 'P|!R|T', '!R|S', '!Q|R', '!Q|T', 'Q|!R|!T', 'S|!T', '!S|T', '!T', '!P|Q|!T', '!P|!Q|Q', '!P|!Q|T']\n",
      "['!P|R', '!Q|T', 'P|Q', 'P|!R|T', '!R|S', '!Q|R', '!Q|T', 'Q|!R|!T', 'S|!T', '!S|T', '!T', '!P|Q|!T', '!P|!Q|Q', 'P|!P|Q']\n",
      "['!P|R', '!Q|T', 'P|Q', 'P|!R|T', '!R|S', '!Q|R', '!Q|T', 'Q|!R|!T', 'S|!T', '!S|T', '!T', '!P|Q|!T', '!P|!Q|Q', '!Q|Q|!R|T']\n",
      "['!P|R', '!Q|T', 'P|Q', 'P|!R|T', '!R|S', '!Q|R', '!Q|T', 'Q|!R|!T', 'S|!T', '!S|T', '!T', '!P|Q|!T', '!P|!Q|Q', '!P|!Q|R']\n",
      "['!P|R', '!Q|T', 'P|Q', 'P|!R|T', '!R|S', '!Q|R', '!Q|T', 'Q|!R|!T', 'S|!T', '!S|T', '!T', '!P|Q|!T', '!P|!Q|Q', '!P|Q|!R|!T']\n",
      "['!P|R', '!Q|T', 'P|Q', 'P|!R|T', '!R|S', '!Q|R', '!Q|T', 'Q|!R|!T', 'S|!T', '!S|T', '!T', '!P|Q|!T', 'P|!P|Q|!R', '!P|Q|!R|!T']\n",
      "['!P|R', '!Q|T', 'P|Q', 'P|!R|T', '!R|S', '!Q|R', '!Q|T', 'Q|!R|!T', 'S|!T', '!S|T', '!T', '!P|Q|!T', '!P|R|!T', '!P|!Q|R']\n",
      "['!P|R', '!Q|T', 'P|Q', 'P|!R|T', '!R|S', '!Q|R', '!Q|T', 'Q|!R|!T', 'S|!T', '!S|T', '!T', '!P|Q|!T', '!P|R|!T', 'Q|R|!T']\n",
      "['!P|R', '!Q|T', 'P|Q', 'P|!R|T', '!R|S', '!Q|R', '!Q|T', 'Q|!R|!T', 'S|!T', '!S|T', '!T', '!P|Q|!T', '!P|R|!T', 'P|!P|R|!R']\n",
      "['!P|R', '!Q|T', 'P|Q', 'P|!R|T', '!R|S', '!Q|R', '!Q|T', 'Q|!R|!T', 'S|!T', '!S|T', '!T', '!P|Q|!T', '!P|R|!T', '!P|S|!T']\n",
      "['!P|R', '!Q|T', 'P|Q', 'P|!R|T', '!R|S', '!Q|R', '!Q|T', 'Q|!R|!T', 'S|!T', '!S|T', '!T', '!P|Q|!T', '!P|R|!T', '!P|R|!S']\n",
      "['!P|R', '!Q|T', 'P|Q', 'P|!R|T', '!R|S', '!Q|R', '!Q|T', 'Q|!R|!T', 'S|!T', '!S|T', '!T', '!P|Q|!T', '!P|Q|!S', '!P|!S|T']\n",
      "['!P|R', '!Q|T', 'P|Q', 'P|!R|T', '!R|S', '!Q|R', '!Q|T', 'Q|!R|!T', 'S|!T', '!S|T', '!T', '!P|Q|!T', '!P|Q|!S', 'Q|!S']\n",
      "['!P|R', '!Q|T', 'P|Q', 'P|!R|T', '!R|S', '!Q|R', '!Q|T', 'Q|!R|!T', 'S|!T', '!S|T', '!T', '!P|Q|!T', '!P|Q|!S', 'Q|!R|!S|T']\n",
      "['!P|R', '!Q|T', 'P|Q', 'P|!R|T', '!R|S', '!Q|R', '!Q|T', 'Q|!R|!T', 'S|!T', '!S|T', '!T', '!P|Q|!T', '!P|Q|!S', '!P|Q|!R']\n",
      "['!P|R', '!Q|T', 'P|Q', 'P|!R|T', '!R|S', '!Q|R', '!Q|T', 'Q|!R|!T', 'S|!T', '!S|T', '!T', '!P|Q|!T', '!P|Q|!S', '!P|R|!S']\n",
      "['!P|R', '!Q|T', 'P|Q', 'P|!R|T', '!R|S', '!Q|R', '!Q|T', 'Q|!R|!T', 'S|!T', '!S|T', '!T', 'P|T', 'P|S', 'R|S']\n",
      "['!P|R', '!Q|T', 'P|Q', 'P|!R|T', '!R|S', '!Q|R', '!Q|T', 'Q|!R|!T', 'S|!T', '!S|T', '!T', 'P|T', 'P', 'R']\n",
      "['!P|R', '!Q|T', 'P|Q', 'P|!R|T', '!R|S', '!Q|R', '!Q|T', 'Q|!R|!T', 'S|!T', '!S|T', '!T', '!Q|Q|!R', '!P|!Q|Q', '!P|!Q|Q|!R']\n",
      "['!P|R', '!Q|T', 'P|Q', 'P|!R|T', '!R|S', '!Q|R', '!Q|T', 'Q|!R|!T', 'S|!T', '!S|T', '!T', '!Q|Q|!R', '!Q|!R|T', '!P|!Q|T']\n",
      "['!P|R', '!Q|T', 'P|Q', 'P|!R|T', '!R|S', '!Q|R', '!Q|T', 'Q|!R|!T', 'S|!T', '!S|T', '!T', '!Q|Q|!R', '!Q|!R|T', '!Q|!R|S']\n",
      "['!P|R', '!Q|T', 'P|Q', 'P|!R|T', '!R|S', '!Q|R', '!Q|T', 'Q|!R|!T', 'S|!T', '!S|T', '!T', '!Q|Q|!R', '!Q|!R|T', '!Q|!R']\n",
      "['!P|R', '!Q|T', 'P|Q', 'P|!R|T', '!R|S', '!Q|R', '!Q|T', 'Q|!R|!T', 'S|!T', '!S|T', '!T', '!Q|S', 'P|S', 'P|T']\n",
      "['!P|R', '!Q|T', 'P|Q', 'P|!R|T', '!R|S', '!Q|R', '!Q|T', 'Q|!R|!T', 'S|!T', '!S|T', '!T', '!Q|S', '!R|S|!T', '!P|S|!T']\n",
      "['!P|R', '!Q|T', 'P|Q', 'P|!R|T', '!R|S', '!Q|R', '!Q|T', 'Q|!R|!T', 'S|!T', '!S|T', '!T', '!Q|S', '!R|S|!T', '!Q|!R|S']\n",
      "['!P|R', '!Q|T', 'P|Q', 'P|!R|T', '!R|S', '!Q|R', '!Q|T', 'Q|!R|!T', 'S|!T', '!S|T', '!T', '!Q|S', '!R|S|!T', 'P|!R|S']\n",
      "['!P|R', '!Q|T', 'P|Q', 'P|!R|T', '!R|S', '!Q|R', '!Q|T', 'Q|!R|!T', 'S|!T', '!S|T', '!T', '!Q|S', '!R|S|!T', '!Q|S|!T']\n",
      "['!P|R', '!Q|T', 'P|Q', 'P|!R|T', '!R|S', '!Q|R', '!Q|T', 'Q|!R|!T', 'S|!T', '!S|T', '!T', '!Q|S', '!R|S|!T', '!R|S|!S']\n",
      "['!P|R', '!Q|T', 'P|Q', 'P|!R|T', '!R|S', '!Q|R', '!Q|T', 'Q|!R|!T', 'S|!T', '!S|T', '!T', '!Q', '!R|!T', '!P|!T']\n",
      "['!P|R', '!Q|T', 'P|Q', 'P|!R|T', '!R|S', '!Q|R', '!Q|T', 'Q|!R|!T', 'S|!T', '!S|T', '!T', '!Q', '!R|!T', '!Q|!R']\n",
      "['!P|R', '!Q|T', 'P|Q', 'P|!R|T', '!R|S', '!Q|R', '!Q|T', 'Q|!R|!T', 'S|!T', '!S|T', '!T', '!Q', '!R|!T', 'P|!R']\n",
      "['!P|R', '!Q|T', 'P|Q', 'P|!R|T', '!R|S', '!Q|R', '!Q|T', 'Q|!R|!T', 'S|!T', '!S|T', '!T', '!Q', '!R|!T', '!Q|!T']\n",
      "['!P|R', '!Q|T', 'P|Q', 'P|!R|T', '!R|S', '!Q|R', '!Q|T', 'Q|!R|!T', 'S|!T', '!S|T', '!T', '!Q', '!R|!T', '!R|!S']\n",
      "['!P|R', '!Q|T', 'P|Q', 'P|!R|T', '!R|S', '!Q|R', '!Q|T', 'Q|!R|!T', 'S|!T', '!S|T', '!T', 'P|R', 'P|Q|!T', 'Q|R|!T']\n",
      "['!P|R', '!Q|T', 'P|Q', 'P|!R|T', '!R|S', '!Q|R', '!Q|T', 'Q|!R|!T', 'S|!T', '!S|T', '!T', 'P|R', 'P|Q|!T', 'P|!Q|Q']\n",
      "['!P|R', '!Q|T', 'P|Q', 'P|!R|T', '!R|S', '!Q|R', '!Q|T', 'Q|!R|!T', 'S|!T', '!S|T', '!T', 'P|R', 'P|Q|!T', 'P|Q|!R']\n",
      "['!P|R', '!Q|T', 'P|Q', 'P|!R|T', '!R|S', '!Q|R', '!Q|T', 'Q|!R|!T', 'S|!T', '!S|T', '!T', 'P|R', 'P|Q|!T', 'P|R|!T']\n",
      "['!P|R', '!Q|T', 'P|Q', 'P|!R|T', '!R|S', '!Q|R', '!Q|T', 'Q|!R|!T', 'S|!T', '!S|T', '!T', 'P|R', 'P|Q|!T', 'P|Q|!S']\n",
      "['!P|R', '!Q|T', 'P|Q', 'P|!R|T', '!R|S', '!Q|R', '!Q|T', 'Q|!R|!T', 'S|!T', '!S|T', '!T', 'P|!Q|T', '!Q|R|T', 'P|R|T']\n",
      "['!P|R', '!Q|T', 'P|Q', 'P|!R|T', '!R|S', '!Q|R', '!Q|T', 'Q|!R|!T', 'S|!T', '!S|T', '!T', 'P|!Q|T', '!Q|R|T', '!Q|S|T']\n",
      "['!P|R', '!Q|T', 'P|Q', 'P|!R|T', '!R|S', '!Q|R', '!Q|T', 'Q|!R|!T', 'S|!T', '!S|T', '!T', 'P|!Q|T', '!Q|R|T', '!Q|Q|R|!R']\n",
      "['!P|R', '!Q|T', 'P|Q', 'P|!R|T', '!R|S', '!Q|R', '!Q|T', 'Q|!R|!T', 'S|!T', '!S|T', '!T', 'P|!Q|T', '!Q|R|T', '!Q|R|S']\n",
      "['!P|R', '!Q|T', 'P|Q', 'P|!R|T', '!R|S', '!Q|R', '!Q|T', 'Q|!R|!T', 'S|!T', '!S|T', '!T', 'P|!Q|T', 'P|!Q|Q|!R', 'P|!P|!Q|Q']\n",
      "['!P|R', '!Q|T', 'P|Q', 'P|!R|T', '!R|S', '!Q|R', '!Q|T', 'Q|!R|!T', 'S|!T', '!S|T', '!T', 'P|!Q|T', 'P|!Q|Q|!R', 'P|!Q|!R|T']\n",
      "['!P|R', '!Q|T', 'P|Q', 'P|!R|T', '!R|S', '!Q|R', '!Q|T', 'Q|!R|!T', 'S|!T', '!S|T', '!T', 'P|!Q|T', 'P|!Q|Q|!R', 'P|Q|!R']\n",
      "['!P|R', '!Q|T', 'P|Q', 'P|!R|T', '!R|S', '!Q|R', '!Q|T', 'Q|!R|!T', 'S|!T', '!S|T', '!T', 'P|!Q|T', 'P|!Q|Q|!R', 'P|!Q|Q']\n",
      "['!P|R', '!Q|T', 'P|Q', 'P|!R|T', '!R|S', '!Q|R', '!Q|T', 'Q|!R|!T', 'S|!T', '!S|T', '!T', 'P|!Q|T', 'P|!Q|Q|!R', 'P|Q|!R|!T']\n",
      "['!P|R', '!Q|T', 'P|Q', 'P|!R|T', '!R|S', '!Q|R', '!Q|T', 'Q|!R|!T', 'S|!T', '!S|T', '!T', 'P|!Q|T', 'P|!Q|Q|!R', 'P|!Q|!R|T']\n",
      "['!P|R', '!Q|T', 'P|Q', 'P|!R|T', '!R|S', '!Q|R', '!Q|T', 'Q|!R|!T', 'S|!T', '!S|T', '!T', 'P|!Q|T', 'P|!Q|S', '!Q|R|S']\n",
      "['!P|R', '!Q|T', 'P|Q', 'P|!R|T', '!R|S', '!Q|R', '!Q|T', 'Q|!R|!T', 'S|!T', '!S|T', '!T', 'P|!Q|T', 'P|!Q|S', 'P|S']\n",
      "['!P|R', '!Q|T', 'P|Q', 'P|!R|T', '!R|S', '!Q|R', '!Q|T', 'Q|!R|!T', 'S|!T', '!S|T', '!T', 'P|!Q|T', 'P|!Q|S', 'P|!R|S|!T']\n",
      "['!P|R', '!Q|T', 'P|Q', 'P|!R|T', '!R|S', '!Q|R', '!Q|T', 'Q|!R|!T', 'S|!T', '!S|T', '!T', 'P|!Q|T', 'P|!Q', 'P']\n",
      "['!P|R', '!Q|T', 'P|Q', 'P|!R|T', '!R|S', '!Q|R', '!Q|T', 'Q|!R|!T', 'S|!T', '!S|T', '!T', 'P|!Q|T', 'P|!Q', 'P|!R|!T']\n",
      "['!P|R', '!Q|T', 'P|Q', 'P|!R|T', '!R|S', '!Q|R', '!Q|T', 'Q|!R|!T', 'S|!T', '!S|T', '!T', 'P|Q|!R', 'P|!P|Q', '!P|Q|R']\n",
      "['!P|R', '!Q|T', 'P|Q', 'P|!R|T', '!R|S', '!Q|R', '!Q|T', 'Q|!R|!T', 'S|!T', '!S|T', '!T', 'P|Q|!R', 'P|!P|Q', 'P|!P|T']\n",
      "['!P|R', '!Q|T', 'P|Q', 'P|!R|T', '!R|S', '!Q|R', '!Q|T', 'Q|!R|!T', 'S|!T', '!S|T', '!T', 'P|Q|!R', 'P|!P|Q', 'P|Q|!R|T']\n",
      "['!P|R', '!Q|T', 'P|Q', 'P|!R|T', '!R|S', '!Q|R', '!Q|T', 'Q|!R|!T', 'S|!T', '!S|T', '!T', 'P|Q|!R', 'P|!P|Q', 'P|!P|R']\n",
      "['!P|R', '!Q|T', 'P|Q', 'P|!R|T', '!R|S', '!Q|R', '!Q|T', 'Q|!R|!T', 'S|!T', '!S|T', '!T', 'P|Q|!R', 'P|!Q|Q', '!Q|Q|R']\n",
      "['!P|R', '!Q|T', 'P|Q', 'P|!R|T', '!R|S', '!Q|R', '!Q|T', 'Q|!R|!T', 'S|!T', '!S|T', '!T', 'P|Q|!R', 'P|!Q|Q', 'P|!Q|T']\n",
      "['!P|R', '!Q|T', 'P|Q', 'P|!R|T', '!R|S', '!Q|R', '!Q|T', 'Q|!R|!T', 'S|!T', '!S|T', '!T', 'P|Q|!R', 'P|!Q|Q', 'P|!Q|R']\n",
      "['!P|R', '!Q|T', 'P|Q', 'P|!R|T', '!R|S', '!Q|R', '!Q|T', 'Q|!R|!T', 'S|!T', '!S|T', '!T', 'P|Q|!R', 'P|!Q|Q', 'P|Q|!R|!T']\n",
      "['!P|R', '!Q|T', 'P|Q', 'P|!R|T', '!R|S', '!Q|R', '!Q|T', 'Q|!R|!T', 'S|!T', '!S|T', '!T', 'P|!R|S', 'P|!P|S', 'P|!P|T']\n",
      "['!P|R', '!Q|T', 'P|Q', 'P|!R|T', '!R|S', '!Q|R', '!Q|T', 'Q|!R|!T', 'S|!T', '!S|T', '!T', 'P|!R|S', 'P|!Q|S', 'P|!Q|T']\n",
      "['!P|R', '!Q|T', 'P|Q', 'P|!R|T', '!R|S', '!Q|R', '!Q|T', 'Q|!R|!T', 'S|!T', '!S|T', '!T', '!R|T', '!P|T', '!P|S']\n",
      "['!P|R', '!Q|T', 'P|Q', 'P|!R|T', '!R|S', '!Q|R', '!Q|T', 'Q|!R|!T', 'S|!T', '!S|T', '!T', '!R|T', 'Q|!R', '!P|Q']\n",
      "['!P|R', '!Q|T', 'P|Q', 'P|!R|T', '!R|S', '!Q|R', '!Q|T', 'Q|!R|!T', 'S|!T', '!S|T', '!T', '!R|T', 'Q|!R', '!Q|Q']\n",
      "['!P|R', '!Q|T', 'P|Q', 'P|!R|T', '!R|S', '!Q|R', '!Q|T', 'Q|!R|!T', 'S|!T', '!S|T', '!T', '!R|T', '!R', '!P']\n",
      "['!P|R', '!Q|T', 'P|Q', 'P|!R|T', '!R|S', '!Q|R', '!Q|T', 'Q|!R|!T', 'S|!T', '!S|T', '!T', '!R|T', '!R', '!Q']\n",
      "['!P|R', '!Q|T', 'P|Q', 'P|!R|T', '!R|S', '!Q|R', '!Q|T', 'Q|!R|!T', 'S|!T', '!S|T', '!T', '!Q|Q|!T', '!Q|Q', 'Q|!Q|!T']\n",
      "['!P|R', '!Q|T', 'P|Q', 'P|!R|T', '!R|S', '!Q|R', '!Q|T', 'Q|!R|!T', 'S|!T', '!S|T', '!T', '!Q|Q|!T', 'P|!Q|Q|!R', 'P|!Q|Q|!R|!T']\n",
      "['!P|R', '!Q|T', 'P|Q', 'P|!R|T', '!R|S', '!Q|R', '!Q|T', 'Q|!R|!T', 'S|!T', '!S|T', '!T', '!Q|Q|!T', '!Q|R|!T', 'P|R|!T']\n",
      "['!P|R', '!Q|T', 'P|Q', 'P|!R|T', '!R|S', '!Q|R', '!Q|T', 'Q|!R|!T', 'S|!T', '!S|T', '!T', '!Q|Q|!T', '!Q|R|!T', 'P|!Q|R|!R']\n",
      "['!P|R', '!Q|T', 'P|Q', 'P|!R|T', '!R|S', '!Q|R', '!Q|T', 'Q|!R|!T', 'S|!T', '!S|T', '!T', '!Q|Q|!T', '!Q|R|!T', '!Q|S|!T']\n",
      "['!P|R', '!Q|T', 'P|Q', 'P|!R|T', '!R|S', '!Q|R', '!Q|T', 'Q|!R|!T', 'S|!T', '!S|T', '!T', '!Q|Q|!T', '!Q|R|!T', 'Q|!Q|!T']\n",
      "['!P|R', '!Q|T', 'P|Q', 'P|!R|T', '!R|S', '!Q|R', '!Q|T', 'Q|!R|!T', 'S|!T', '!S|T', '!T', '!Q|Q|!T', '!Q|R|!T', '!Q|R|!S']\n",
      "['!P|R', '!Q|T', 'P|Q', 'P|!R|T', '!R|S', '!Q|R', '!Q|T', 'Q|!R|!T', 'S|!T', '!S|T', '!T', '!Q|Q|!T', '!Q|Q|!S', '!Q|!S|T']\n",
      "['!P|R', '!Q|T', 'P|Q', 'P|!R|T', '!R|S', '!Q|R', '!Q|T', 'Q|!R|!T', 'S|!T', '!S|T', '!T', '!Q|Q|!T', '!Q|Q|!S', 'P|Q|!S']\n",
      "['!P|R', '!Q|T', 'P|Q', 'P|!R|T', '!R|S', '!Q|R', '!Q|T', 'Q|!R|!T', 'S|!T', '!S|T', '!T', '!Q|Q|!T', '!Q|Q|!S', '!Q|Q|!R']\n",
      "['!P|R', '!Q|T', 'P|Q', 'P|!R|T', '!R|S', '!Q|R', '!Q|T', 'Q|!R|!T', 'S|!T', '!S|T', '!T', '!Q|Q|!T', '!Q|Q|!S', '!Q|R|!S']\n",
      "['!P|R', '!Q|T', 'P|Q', 'P|!R|T', '!R|S', '!Q|R', '!Q|T', 'Q|!R|!T', 'S|!T', '!S|T', '!T', '!Q|Q|!T', '!Q|Q|!S', 'Q|!R|!S|!T']\n",
      "['!P|R', '!Q|T', 'P|Q', 'P|!R|T', '!R|S', '!Q|R', '!Q|T', 'Q|!R|!T', 'S|!T', '!S|T', '!T', '!Q|Q|!T', '!Q|Q|!S', 'Q|!Q|!T']\n",
      "['!P|R', '!Q|T', 'P|Q', 'P|!R|T', '!R|S', '!Q|R', '!Q|T', 'Q|!R|!T', 'S|!T', '!S|T', '!T', '!Q|Q|!T', '!Q|Q|!S', 'Q|!Q|!S|!T']\n",
      "['!P|R', '!Q|T', 'P|Q', 'P|!R|T', '!R|S', '!Q|R', '!Q|T', 'Q|!R|!T', 'S|!T', '!S|T', '!T', 'Q|!R|!S', '!P|Q|!S', '!P|Q|!T']\n",
      "['!P|R', '!Q|T', 'P|Q', 'P|!R|T', '!R|S', '!Q|R', '!Q|T', 'Q|!R|!T', 'S|!T', '!S|T', '!T', 'Q|!R|!S', '!R|!S|T', '!P|!S|T']\n",
      "['!P|R', '!Q|T', 'P|Q', 'P|!R|T', '!R|S', '!Q|R', '!Q|T', 'Q|!R|!T', 'S|!T', '!S|T', '!T', 'Q|!R|!S', '!R|!S|T', '!R|T']\n",
      "['!P|R', '!Q|T', 'P|Q', 'P|!R|T', '!R|S', '!Q|R', '!Q|T', 'Q|!R|!T', 'S|!T', '!S|T', '!T', 'Q|!R|!S', '!R|!S|T', '!Q|!S|T']\n",
      "['!P|R', '!Q|T', 'P|Q', 'P|!R|T', '!R|S', '!Q|R', '!Q|T', 'Q|!R|!T', 'S|!T', '!S|T', '!T', 'Q|!R|!S', '!R|!S|T', '!R|S|!S']\n",
      "['!P|R', '!Q|T', 'P|Q', 'P|!R|T', '!R|S', '!Q|R', '!Q|T', 'Q|!R|!T', 'S|!T', '!S|T', '!T', 'Q|!R|!S', '!R|!S|T', '!R|!S']\n",
      "['!P|R', '!Q|T', 'P|Q', 'P|!R|T', '!R|S', '!Q|R', '!Q|T', 'Q|!R|!T', 'S|!T', '!S|T', '!T', 'Q|!R|!S', 'Q|!R', '!R|T']\n",
      "['!P|R', '!Q|T', 'P|Q', 'P|!R|T', '!R|S', '!Q|R', '!Q|T', 'Q|!R|!T', 'S|!T', '!S|T', '!T', 'Q|R', 'R|T', 'S|T', 'Q|!R|S']\n",
      "['!P|R', '!Q|T', 'P|Q', 'P|!R|T', '!R|S', '!Q|R', '!Q|T', 'Q|!R|!T', 'S|!T', '!S|T', '!T', 'Q|R', 'R|T', 'S|T', 'S']\n",
      "['!P|R', '!Q|T', 'P|Q', 'P|!R|T', '!R|S', '!Q|R', '!Q|T', 'Q|!R|!T', 'S|!T', '!S|T', '!T', 'Q|R', 'R|T', 'S|T', 'T']\n",
      "!T, T resolved to Empty Clause\n",
      "1\n"
     ]
    }
   ],
   "source": [
    "res = solve(n, m, formulas, query, method='uninformed', submethod='BFS')"
   ]
  },
  {
   "cell_type": "code",
   "execution_count": 32,
   "id": "5abbd6ce-b566-4eb7-8640-1df38a78ba89",
   "metadata": {
    "tags": []
   },
   "outputs": [
    {
     "name": "stdout",
     "output_type": "stream",
     "text": [
      "total number of nodes explored: 213\n",
      "execution time: 0.063548 seconds\n",
      "\n",
      "number of nodes in the path: 6\n",
      "path:\n",
      "['!P|R', '!Q|T', 'P|Q', 'P|!R|T', '!R|S', '!Q|R', '!Q|T', 'Q|!R|!T', 'S|!T', '!S|T', '!T']\n",
      "['!P|R', '!Q|T', 'P|Q', 'P|!R|T', '!R|S', '!Q|R', '!Q|T', 'Q|!R|!T', 'S|!T', '!S|T', '!T', 'Q|R']\n",
      "['!P|R', '!Q|T', 'P|Q', 'P|!R|T', '!R|S', '!Q|R', '!Q|T', 'Q|!R|!T', 'S|!T', '!S|T', '!T', 'Q|R', 'R|T']\n",
      "['!P|R', '!Q|T', 'P|Q', 'P|!R|T', '!R|S', '!Q|R', '!Q|T', 'Q|!R|!T', 'S|!T', '!S|T', '!T', 'Q|R', 'R|T', 'S|T']\n",
      "['!P|R', '!Q|T', 'P|Q', 'P|!R|T', '!R|S', '!Q|R', '!Q|T', 'Q|!R|!T', 'S|!T', '!S|T', '!T', 'Q|R', 'R|T', 'S|T', 'T']\n",
      "['!P|R', '!Q|T', 'P|Q', 'P|!R|T', '!R|S', '!Q|R', '!Q|T', 'Q|!R|!T', 'S|!T', '!S|T', '!T', 'Q|R', 'R|T', 'S|T', 'T', '']\n"
     ]
    }
   ],
   "source": [
    "print_results(res)"
   ]
  },
  {
   "cell_type": "markdown",
   "id": "9e47af7e-3ac8-4156-a549-88771a5a7992",
   "metadata": {
    "tags": []
   },
   "source": [
    "### Uninformed Search (DFS)"
   ]
  },
  {
   "cell_type": "code",
   "execution_count": 33,
   "id": "723d3e53-5271-442e-85f3-9b3b039d8561",
   "metadata": {
    "scrolled": true,
    "tags": []
   },
   "outputs": [
    {
     "name": "stdout",
     "output_type": "stream",
     "text": [
      "['!P|R', '!Q|T', 'P|Q', 'P|!R|T', '!R|S', '!Q|R', '!Q|T', 'Q|!R|!T', 'S|!T', '!S|T', '!T']\n",
      "['!P|R', '!Q|T', 'P|Q', 'P|!R|T', '!R|S', '!Q|R', '!Q|T', 'Q|!R|!T', 'S|!T', '!S|T', '!T', '!S']\n",
      "['!P|R', '!Q|T', 'P|Q', 'P|!R|T', '!R|S', '!Q|R', '!Q|T', 'Q|!R|!T', 'S|!T', '!S|T', '!T', '!S', '!R']\n",
      "['!P|R', '!Q|T', 'P|Q', 'P|!R|T', '!R|S', '!Q|R', '!Q|T', 'Q|!R|!T', 'S|!T', '!S|T', '!T', '!S', '!R', '!Q']\n",
      "['!P|R', '!Q|T', 'P|Q', 'P|!R|T', '!R|S', '!Q|R', '!Q|T', 'Q|!R|!T', 'S|!T', '!S|T', '!T', '!S', '!R', '!Q', '!R|!T']\n",
      "['!P|R', '!Q|T', 'P|Q', 'P|!R|T', '!R|S', '!Q|R', '!Q|T', 'Q|!R|!T', 'S|!T', '!S|T', '!T', '!S', '!R', '!Q', '!R|!T', '!R|!S']\n",
      "['!P|R', '!Q|T', 'P|Q', 'P|!R|T', '!R|S', '!Q|R', '!Q|T', 'Q|!R|!T', 'S|!T', '!S|T', '!T', '!S', '!R', '!Q', '!R|!T', '!R|!S', '!Q|!S']\n",
      "['!P|R', '!Q|T', 'P|Q', 'P|!R|T', '!R|S', '!Q|R', '!Q|T', 'Q|!R|!T', 'S|!T', '!S|T', '!T', '!S', '!R', '!Q', '!R|!T', '!R|!S', '!Q|!S', '!Q|!T']\n",
      "['!P|R', '!Q|T', 'P|Q', 'P|!R|T', '!R|S', '!Q|R', '!Q|T', 'Q|!R|!T', 'S|!T', '!S|T', '!T', '!S', '!R', '!Q', '!R|!T', '!R|!S', '!Q|!S', '!Q|!T', 'P|!Q|!R']\n",
      "['!P|R', '!Q|T', 'P|Q', 'P|!R|T', '!R|S', '!Q|R', '!Q|T', 'Q|!R|!T', 'S|!T', '!S|T', '!T', '!S', '!R', '!Q', '!R|!T', '!R|!S', '!Q|!S', '!Q|!T', 'P|!Q|!R', 'P|!R|!T']\n",
      "['!P|R', '!Q|T', 'P|Q', 'P|!R|T', '!R|S', '!Q|R', '!Q|T', 'Q|!R|!T', 'S|!T', '!S|T', '!T', '!S', '!R', '!Q', '!R|!T', '!R|!S', '!Q|!S', '!Q|!T', 'P|!Q|!R', 'P|!R|!T', 'P|!R|!S']\n",
      "['!P|R', '!Q|T', 'P|Q', 'P|!R|T', '!R|S', '!Q|R', '!Q|T', 'Q|!R|!T', 'S|!T', '!S|T', '!T', '!S', '!R', '!Q', '!R|!T', '!R|!S', '!Q|!S', '!Q|!T', 'P|!Q|!R', 'P|!R|!T', 'P|!R|!S', 'P|!Q|!S']\n",
      "['!P|R', '!Q|T', 'P|Q', 'P|!R|T', '!R|S', '!Q|R', '!Q|T', 'Q|!R|!T', 'S|!T', '!S|T', '!T', '!S', '!R', '!Q', '!R|!T', '!R|!S', '!Q|!S', '!Q|!T', 'P|!Q|!R', 'P|!R|!T', 'P|!R|!S', 'P|!Q|!S', 'P|!Q|!T']\n",
      "['!P|R', '!Q|T', 'P|Q', 'P|!R|T', '!R|S', '!Q|R', '!Q|T', 'Q|!R|!T', 'S|!T', '!S|T', '!T', '!S', '!R', '!Q', '!R|!T', '!R|!S', '!Q|!S', '!Q|!T', 'P|!Q|!R', 'P|!R|!T', 'P|!R|!S', 'P|!Q|!S', 'P|!Q|!T', 'P|!T']\n",
      "['!P|R', '!Q|T', 'P|Q', 'P|!R|T', '!R|S', '!Q|R', '!Q|T', 'Q|!R|!T', 'S|!T', '!S|T', '!T', '!S', '!R', '!Q', '!R|!T', '!R|!S', '!Q|!S', '!Q|!T', 'P|!Q|!R', 'P|!R|!T', 'P|!R|!S', 'P|!Q|!S', 'P|!Q|!T', 'P|!T', 'P|!S']\n",
      "['!P|R', '!Q|T', 'P|Q', 'P|!R|T', '!R|S', '!Q|R', '!Q|T', 'Q|!R|!T', 'S|!T', '!S|T', '!T', '!S', '!R', '!Q', '!R|!T', '!R|!S', '!Q|!S', '!Q|!T', 'P|!Q|!R', 'P|!R|!T', 'P|!R|!S', 'P|!Q|!S', 'P|!Q|!T', 'P|!T', 'P|!S', 'P|!R']\n",
      "['!P|R', '!Q|T', 'P|Q', 'P|!R|T', '!R|S', '!Q|R', '!Q|T', 'Q|!R|!T', 'S|!T', '!S|T', '!T', '!S', '!R', '!Q', '!R|!T', '!R|!S', '!Q|!S', '!Q|!T', 'P|!Q|!R', 'P|!R|!T', 'P|!R|!S', 'P|!Q|!S', 'P|!Q|!T', 'P|!T', 'P|!S', 'P|!R', 'P|!Q']\n",
      "['!P|R', '!Q|T', 'P|Q', 'P|!R|T', '!R|S', '!Q|R', '!Q|T', 'Q|!R|!T', 'S|!T', '!S|T', '!T', '!S', '!R', '!Q', '!R|!T', '!R|!S', '!Q|!S', '!Q|!T', 'P|!Q|!R', 'P|!R|!T', 'P|!R|!S', 'P|!Q|!S', 'P|!Q|!T', 'P|!T', 'P|!S', 'P|!R', 'P|!Q', 'P']\n",
      "['!P|R', '!Q|T', 'P|Q', 'P|!R|T', '!R|S', '!Q|R', '!Q|T', 'Q|!R|!T', 'S|!T', '!S|T', '!T', '!S', '!R', '!Q', '!R|!T', '!R|!S', '!Q|!S', '!Q|!T', 'P|!Q|!R', 'P|!R|!T', 'P|!R|!S', 'P|!Q|!S', 'P|!Q|!T', 'P|!T', 'P|!S', 'P|!R', 'P|!Q', 'P', 'R']\n",
      "!R, R resolved to Empty Clause\n",
      "1\n"
     ]
    }
   ],
   "source": [
    "res = solve(n, m, formulas, query, method='uninformed', submethod='DFS')"
   ]
  },
  {
   "cell_type": "code",
   "execution_count": 34,
   "id": "d8ee4e49-e8ca-4ba8-85dc-64712aa9d285",
   "metadata": {
    "scrolled": true,
    "tags": []
   },
   "outputs": [
    {
     "name": "stdout",
     "output_type": "stream",
     "text": [
      "total number of nodes explored: 19\n",
      "execution time: 0.014296 seconds\n",
      "\n",
      "number of nodes in the path: 20\n",
      "path:\n",
      "['!P|R', '!Q|T', 'P|Q', 'P|!R|T', '!R|S', '!Q|R', '!Q|T', 'Q|!R|!T', 'S|!T', '!S|T', '!T']\n",
      "['!P|R', '!Q|T', 'P|Q', 'P|!R|T', '!R|S', '!Q|R', '!Q|T', 'Q|!R|!T', 'S|!T', '!S|T', '!T', '!S']\n",
      "['!P|R', '!Q|T', 'P|Q', 'P|!R|T', '!R|S', '!Q|R', '!Q|T', 'Q|!R|!T', 'S|!T', '!S|T', '!T', '!S', '!R']\n",
      "['!P|R', '!Q|T', 'P|Q', 'P|!R|T', '!R|S', '!Q|R', '!Q|T', 'Q|!R|!T', 'S|!T', '!S|T', '!T', '!S', '!R', '!Q']\n",
      "['!P|R', '!Q|T', 'P|Q', 'P|!R|T', '!R|S', '!Q|R', '!Q|T', 'Q|!R|!T', 'S|!T', '!S|T', '!T', '!S', '!R', '!Q', '!R|!T']\n",
      "['!P|R', '!Q|T', 'P|Q', 'P|!R|T', '!R|S', '!Q|R', '!Q|T', 'Q|!R|!T', 'S|!T', '!S|T', '!T', '!S', '!R', '!Q', '!R|!T', '!R|!S']\n",
      "['!P|R', '!Q|T', 'P|Q', 'P|!R|T', '!R|S', '!Q|R', '!Q|T', 'Q|!R|!T', 'S|!T', '!S|T', '!T', '!S', '!R', '!Q', '!R|!T', '!R|!S', '!Q|!S']\n",
      "['!P|R', '!Q|T', 'P|Q', 'P|!R|T', '!R|S', '!Q|R', '!Q|T', 'Q|!R|!T', 'S|!T', '!S|T', '!T', '!S', '!R', '!Q', '!R|!T', '!R|!S', '!Q|!S', '!Q|!T']\n",
      "['!P|R', '!Q|T', 'P|Q', 'P|!R|T', '!R|S', '!Q|R', '!Q|T', 'Q|!R|!T', 'S|!T', '!S|T', '!T', '!S', '!R', '!Q', '!R|!T', '!R|!S', '!Q|!S', '!Q|!T', 'P|!Q|!R']\n",
      "['!P|R', '!Q|T', 'P|Q', 'P|!R|T', '!R|S', '!Q|R', '!Q|T', 'Q|!R|!T', 'S|!T', '!S|T', '!T', '!S', '!R', '!Q', '!R|!T', '!R|!S', '!Q|!S', '!Q|!T', 'P|!Q|!R', 'P|!R|!T']\n",
      "['!P|R', '!Q|T', 'P|Q', 'P|!R|T', '!R|S', '!Q|R', '!Q|T', 'Q|!R|!T', 'S|!T', '!S|T', '!T', '!S', '!R', '!Q', '!R|!T', '!R|!S', '!Q|!S', '!Q|!T', 'P|!Q|!R', 'P|!R|!T', 'P|!R|!S']\n",
      "['!P|R', '!Q|T', 'P|Q', 'P|!R|T', '!R|S', '!Q|R', '!Q|T', 'Q|!R|!T', 'S|!T', '!S|T', '!T', '!S', '!R', '!Q', '!R|!T', '!R|!S', '!Q|!S', '!Q|!T', 'P|!Q|!R', 'P|!R|!T', 'P|!R|!S', 'P|!Q|!S']\n",
      "['!P|R', '!Q|T', 'P|Q', 'P|!R|T', '!R|S', '!Q|R', '!Q|T', 'Q|!R|!T', 'S|!T', '!S|T', '!T', '!S', '!R', '!Q', '!R|!T', '!R|!S', '!Q|!S', '!Q|!T', 'P|!Q|!R', 'P|!R|!T', 'P|!R|!S', 'P|!Q|!S', 'P|!Q|!T']\n",
      "['!P|R', '!Q|T', 'P|Q', 'P|!R|T', '!R|S', '!Q|R', '!Q|T', 'Q|!R|!T', 'S|!T', '!S|T', '!T', '!S', '!R', '!Q', '!R|!T', '!R|!S', '!Q|!S', '!Q|!T', 'P|!Q|!R', 'P|!R|!T', 'P|!R|!S', 'P|!Q|!S', 'P|!Q|!T', 'P|!T']\n",
      "['!P|R', '!Q|T', 'P|Q', 'P|!R|T', '!R|S', '!Q|R', '!Q|T', 'Q|!R|!T', 'S|!T', '!S|T', '!T', '!S', '!R', '!Q', '!R|!T', '!R|!S', '!Q|!S', '!Q|!T', 'P|!Q|!R', 'P|!R|!T', 'P|!R|!S', 'P|!Q|!S', 'P|!Q|!T', 'P|!T', 'P|!S']\n",
      "['!P|R', '!Q|T', 'P|Q', 'P|!R|T', '!R|S', '!Q|R', '!Q|T', 'Q|!R|!T', 'S|!T', '!S|T', '!T', '!S', '!R', '!Q', '!R|!T', '!R|!S', '!Q|!S', '!Q|!T', 'P|!Q|!R', 'P|!R|!T', 'P|!R|!S', 'P|!Q|!S', 'P|!Q|!T', 'P|!T', 'P|!S', 'P|!R']\n",
      "['!P|R', '!Q|T', 'P|Q', 'P|!R|T', '!R|S', '!Q|R', '!Q|T', 'Q|!R|!T', 'S|!T', '!S|T', '!T', '!S', '!R', '!Q', '!R|!T', '!R|!S', '!Q|!S', '!Q|!T', 'P|!Q|!R', 'P|!R|!T', 'P|!R|!S', 'P|!Q|!S', 'P|!Q|!T', 'P|!T', 'P|!S', 'P|!R', 'P|!Q']\n",
      "['!P|R', '!Q|T', 'P|Q', 'P|!R|T', '!R|S', '!Q|R', '!Q|T', 'Q|!R|!T', 'S|!T', '!S|T', '!T', '!S', '!R', '!Q', '!R|!T', '!R|!S', '!Q|!S', '!Q|!T', 'P|!Q|!R', 'P|!R|!T', 'P|!R|!S', 'P|!Q|!S', 'P|!Q|!T', 'P|!T', 'P|!S', 'P|!R', 'P|!Q', 'P']\n",
      "['!P|R', '!Q|T', 'P|Q', 'P|!R|T', '!R|S', '!Q|R', '!Q|T', 'Q|!R|!T', 'S|!T', '!S|T', '!T', '!S', '!R', '!Q', '!R|!T', '!R|!S', '!Q|!S', '!Q|!T', 'P|!Q|!R', 'P|!R|!T', 'P|!R|!S', 'P|!Q|!S', 'P|!Q|!T', 'P|!T', 'P|!S', 'P|!R', 'P|!Q', 'P', 'R']\n",
      "['!P|R', '!Q|T', 'P|Q', 'P|!R|T', '!R|S', '!Q|R', '!Q|T', 'Q|!R|!T', 'S|!T', '!S|T', '!T', '!S', '!R', '!Q', '!R|!T', '!R|!S', '!Q|!S', '!Q|!T', 'P|!Q|!R', 'P|!R|!T', 'P|!R|!S', 'P|!Q|!S', 'P|!Q|!T', 'P|!T', 'P|!S', 'P|!R', 'P|!Q', 'P', 'R', '']\n"
     ]
    }
   ],
   "source": [
    "print_results(res)"
   ]
  },
  {
   "cell_type": "markdown",
   "id": "a825bde3-0e19-4938-9311-c5c193dc27ee",
   "metadata": {
    "tags": []
   },
   "source": [
    "### Greedy Search"
   ]
  },
  {
   "cell_type": "code",
   "execution_count": 35,
   "id": "de62d0d5-5cbd-40e4-98f2-77497d3eb9d3",
   "metadata": {
    "tags": []
   },
   "outputs": [
    {
     "name": "stdout",
     "output_type": "stream",
     "text": [
      "['!P|R', '!Q|T', 'P|Q', 'P|!R|T', '!R|S', '!Q|R', '!Q|T', 'Q|!R|!T', 'S|!T', '!S|T', '!T']\n",
      "['!P|R', '!Q|T', 'P|Q', 'P|!R|T', '!R|S', '!Q|R', '!Q|T', 'Q|!R|!T', 'S|!T', '!S|T', '!T', '!Q']\n",
      "['!P|R', '!Q|T', 'P|Q', 'P|!R|T', '!R|S', '!Q|R', '!Q|T', 'Q|!R|!T', 'S|!T', '!S|T', '!T', '!S']\n",
      "['!P|R', '!Q|T', 'P|Q', 'P|!R|T', '!R|S', '!Q|R', '!Q|T', 'Q|!R|!T', 'S|!T', '!S|T', '!T', '!Q', 'P']\n",
      "['!P|R', '!Q|T', 'P|Q', 'P|!R|T', '!R|S', '!Q|R', '!Q|T', 'Q|!R|!T', 'S|!T', '!S|T', '!T', '!S', '!R']\n",
      "['!P|R', '!Q|T', 'P|Q', 'P|!R|T', '!R|S', '!Q|R', '!Q|T', 'Q|!R|!T', 'S|!T', '!S|T', '!T', '!Q', 'P', 'R']\n",
      "['!P|R', '!Q|T', 'P|Q', 'P|!R|T', '!R|S', '!Q|R', '!Q|T', 'Q|!R|!T', 'S|!T', '!S|T', '!T', '!S', '!R', '!P']\n",
      "['!P|R', '!Q|T', 'P|Q', 'P|!R|T', '!R|S', '!Q|R', '!Q|T', 'Q|!R|!T', 'S|!T', '!S|T', '!T', '!S', '!R', '!Q']\n",
      "['!P|R', '!Q|T', 'P|Q', 'P|!R|T', '!R|S', '!Q|R', '!Q|T', 'Q|!R|!T', 'S|!T', '!S|T', '!T', '!Q', 'P', 'R', 'S']\n",
      "['!P|R', '!Q|T', 'P|Q', 'P|!R|T', '!R|S', '!Q|R', '!Q|T', 'Q|!R|!T', 'S|!T', '!S|T', '!T', '!S', '!R', '!P', 'Q']\n",
      "['!P|R', '!Q|T', 'P|Q', 'P|!R|T', '!R|S', '!Q|R', '!Q|T', 'Q|!R|!T', 'S|!T', '!S|T', '!T', '!Q', 'P', 'R', 'S', 'T']\n",
      "!T, T resolved to Empty Clause\n",
      "1\n"
     ]
    }
   ],
   "source": [
    "res = solve(n, m, formulas, query, method='greedy')"
   ]
  },
  {
   "cell_type": "code",
   "execution_count": 36,
   "id": "d05b251a-0586-495f-ade7-d3efa3a8b430",
   "metadata": {
    "tags": []
   },
   "outputs": [
    {
     "name": "stdout",
     "output_type": "stream",
     "text": [
      "total number of nodes explored: 11\n",
      "execution time: 0.002323 seconds\n",
      "\n",
      "number of nodes in the path: 7\n",
      "path:\n",
      "['!P|R', '!Q|T', 'P|Q', 'P|!R|T', '!R|S', '!Q|R', '!Q|T', 'Q|!R|!T', 'S|!T', '!S|T', '!T']\n",
      "['!P|R', '!Q|T', 'P|Q', 'P|!R|T', '!R|S', '!Q|R', '!Q|T', 'Q|!R|!T', 'S|!T', '!S|T', '!T', '!Q']\n",
      "['!P|R', '!Q|T', 'P|Q', 'P|!R|T', '!R|S', '!Q|R', '!Q|T', 'Q|!R|!T', 'S|!T', '!S|T', '!T', '!Q', 'P']\n",
      "['!P|R', '!Q|T', 'P|Q', 'P|!R|T', '!R|S', '!Q|R', '!Q|T', 'Q|!R|!T', 'S|!T', '!S|T', '!T', '!Q', 'P', 'R']\n",
      "['!P|R', '!Q|T', 'P|Q', 'P|!R|T', '!R|S', '!Q|R', '!Q|T', 'Q|!R|!T', 'S|!T', '!S|T', '!T', '!Q', 'P', 'R', 'S']\n",
      "['!P|R', '!Q|T', 'P|Q', 'P|!R|T', '!R|S', '!Q|R', '!Q|T', 'Q|!R|!T', 'S|!T', '!S|T', '!T', '!Q', 'P', 'R', 'S', 'T']\n",
      "['!P|R', '!Q|T', 'P|Q', 'P|!R|T', '!R|S', '!Q|R', '!Q|T', 'Q|!R|!T', 'S|!T', '!S|T', '!T', '!Q', 'P', 'R', 'S', 'T', '']\n"
     ]
    }
   ],
   "source": [
    "print_results(res)"
   ]
  },
  {
   "cell_type": "code",
   "execution_count": null,
   "id": "a55367eb-12de-4fd9-81d8-e91d41c60f4d",
   "metadata": {},
   "outputs": [],
   "source": []
  }
 ],
 "metadata": {
  "kernelspec": {
   "display_name": "Python 3 (ipykernel)",
   "language": "python",
   "name": "python3"
  },
  "language_info": {
   "codemirror_mode": {
    "name": "ipython",
    "version": 3
   },
   "file_extension": ".py",
   "mimetype": "text/x-python",
   "name": "python",
   "nbconvert_exporter": "python",
   "pygments_lexer": "ipython3",
   "version": "3.8.10"
  }
 },
 "nbformat": 4,
 "nbformat_minor": 5
}
